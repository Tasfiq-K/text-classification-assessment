{
  "nbformat": 4,
  "nbformat_minor": 0,
  "metadata": {
    "colab": {
      "provenance": []
    },
    "kernelspec": {
      "name": "python3",
      "display_name": "Python 3"
    },
    "language_info": {
      "name": "python"
    }
  },
  "cells": [
    {
      "cell_type": "markdown",
      "source": [
        "# PYTHON Version"
      ],
      "metadata": {
        "id": "45rxWueMD1FO"
      }
    },
    {
      "cell_type": "code",
      "source": [
        "!python --version"
      ],
      "metadata": {
        "colab": {
          "base_uri": "https://localhost:8080/"
        },
        "id": "Oy6PYPP__s_k",
        "outputId": "1f854997-9334-4c4b-cb53-233bd0139112"
      },
      "execution_count": 1,
      "outputs": [
        {
          "output_type": "stream",
          "name": "stdout",
          "text": [
            "Python 3.10.12\n"
          ]
        }
      ]
    },
    {
      "cell_type": "markdown",
      "source": [
        "**YOUR RESULT MAY VARY WHEN YOU RUN IT ON YOUR DEVICE**"
      ],
      "metadata": {
        "id": "1rjlALelMZKQ"
      }
    },
    {
      "cell_type": "markdown",
      "source": [
        "# Importing necessary libraries"
      ],
      "metadata": {
        "id": "UVqgP5mco6RU"
      }
    },
    {
      "cell_type": "code",
      "execution_count": 3,
      "metadata": {
        "id": "Lry7337vnVNC"
      },
      "outputs": [],
      "source": [
        "import random\n",
        "import numpy as np\n",
        "import pandas as pd\n",
        "from sklearn.model_selection import train_test_split\n",
        "import tensorflow as tf\n",
        "from tensorflow.keras.preprocessing.text import Tokenizer\n",
        "from tensorflow.keras.preprocessing.sequence import pad_sequences\n",
        "from tensorflow.keras import layers\n",
        "from tensorflow.keras import losses"
      ]
    },
    {
      "cell_type": "markdown",
      "source": [
        "# 1. Data Generation"
      ],
      "metadata": {
        "id": "R9nV16a1o-Jd"
      }
    },
    {
      "cell_type": "markdown",
      "source": [
        "The first task was to generate the small data, which includes data about some products and late build a classification model with it.\n",
        "\n",
        "So, my first intuition was to generate a small amount of data with some product information with the label **Recommended** and **Not Recommended**. So, it would be a binary classification problem.\n",
        "\n",
        "I generated the product information data with **4 categories** which includes few types of products each, which became the **Prodcut name**. Added **Description**, **Base price** and **Rating** for each of the product.\n",
        "\n"
      ],
      "metadata": {
        "id": "kBV2AE_TD6p6"
      }
    },
    {
      "cell_type": "code",
      "source": [
        "# Let's create 4 categories, e.g, Electronics, Books, Clothing, Home & Kitchen\n",
        "\n",
        "categories = {\n",
        "    \"Electronics\": [\n",
        "        \"Smart Phone\", \"Laptop\", \"Headphones\", \"Smart Watch\", \"Camera\"\n",
        "    ],\n",
        "    \"Books\": [\n",
        "        \"Mystery Novel\", \"Non-Fiction Book\", \"Science Fiction\", \"Fantasy Novel\", \"Biography\"\n",
        "    ],\n",
        "    \"Clothing\": [\n",
        "        \"T-Shirt\", \"Jeans\", \"Jacket\", \"Sweater\", \"Dress\"\n",
        "    ],\n",
        "    \"Home & Kitchen\": [\n",
        "        \"Blender\", \"Coffee Maker\", \"Cooking Utensils\", \"Toaster\", \"Microwave\"\n",
        "    ]\n",
        "}\n",
        "\n",
        "\n",
        "# Descrtiption for each categories\n",
        "\n",
        "descriptions = {\n",
        "    \"Smart Phone\": \"A high-end smartphone with a large display and fast processor.\",\n",
        "    \"Laptop\": \"A lightweight laptop with 16GB RAM and 512GB SSD.\",\n",
        "    \"Headphones\": \"Wireless headphones with noise-canceling features and long battery life.\",\n",
        "    \"Smart Watch\": \"A smart watch with fitness tracking and notification features.\",\n",
        "    \"Camera\": \"A digital camera with high resolution and optical zoom.\",\n",
        "    \"Mystery Novel\": \"A thrilling mystery novel with unexpected twists and turns.\",\n",
        "    \"Non-Fiction Book\": \"An informative non-fiction book on the history of technology.\",\n",
        "    \"Science Fiction\": \"A science fiction book set in a dystopian future.\",\n",
        "    \"Fantasy Novel\": \"A fantasy novel with magical creatures and epic adventures.\",\n",
        "    \"Biography\": \"A biography of a famous historical figure.\",\n",
        "    \"T-Shirt\": \"A comfortable cotton t-shirt available in various sizes and colors.\",\n",
        "    \"Jeans\": \"Stylish denim jeans with a slim fit design.\",\n",
        "    \"Jacket\": \"A warm jacket perfect for cold weather.\",\n",
        "    \"Sweater\": \"A cozy sweater made from soft wool.\",\n",
        "    \"Dress\": \"An elegant dress suitable for formal occasions.\",\n",
        "    \"Blender\": \"A powerful blender with multiple speed settings for smoothies and soups.\",\n",
        "    \"Coffee Maker\": \"An automatic coffee maker with programmable settings and a built-in grinder.\",\n",
        "    \"Cooking Utensils\": \"A set of durable cooking utensils made from stainless steel.\",\n",
        "    \"Toaster\": \"A compact toaster with adjustable browning settings.\",\n",
        "    \"Microwave\": \"A microwave with preset cooking modes and a defrost function.\"\n",
        "}\n",
        "\n",
        "# Base Prices for each of the products in USD\n",
        "\n",
        "base_prices = {\n",
        "    \"Smart Phone\": 699.99,\n",
        "    \"Laptop\": 1199.99,\n",
        "    \"Headphones\": 199.99,\n",
        "    \"Smart Watch\": 299.99,\n",
        "    \"Camera\": 499.99,\n",
        "    \"Mystery Novel\": 14.99,\n",
        "    \"Non-Fiction Book\": 24.99,\n",
        "    \"Science Fiction\": 19.99,\n",
        "    \"Fantasy Novel\": 18.99,\n",
        "    \"Biography\": 21.99,\n",
        "    \"T-Shirt\": 19.99,\n",
        "    \"Jeans\": 49.99,\n",
        "    \"Jacket\": 89.99,\n",
        "    \"Sweater\": 59.99,\n",
        "    \"Dress\": 79.99,\n",
        "    \"Blender\": 89.99,\n",
        "    \"Coffee Maker\": 129.99,\n",
        "    \"Cooking Utensils\": 39.99,\n",
        "    \"Toaster\": 29.99,\n",
        "    \"Microwave\": 99.99\n",
        "}"
      ],
      "metadata": {
        "id": "iHdOY1beoTQW"
      },
      "execution_count": 3,
      "outputs": []
    },
    {
      "cell_type": "markdown",
      "source": [
        "To actually generate the data and to replicate minimal customer behavior, I've added the labels (\"Recommended\", \"Not Recommended\") using a bit of logic.\n",
        "\n",
        "So, the logic actually is the beahvior of how people buy products from online shop. So, for a product if it's rating is low and price is how people usually avoid that and vice versa.\n",
        "\n",
        "So, a product is labeled as **\"Not Recommended\"** if the rating is low and the price is higher or equal to the base price. And, a product is **\"Recommended\"** if its rating is high and price is equal or less than the base price.\n",
        "\n",
        "Also, If a product has very high rating regardless of the price, is also labeled as **\"Recommended\"**"
      ],
      "metadata": {
        "id": "3S1N05MtFVSJ"
      }
    },
    {
      "cell_type": "code",
      "source": [
        "## Function to generate the data ##\n",
        "\n",
        "def generate_product_data():\n",
        "    \"\"\"\n",
        "    Generates a random product data for a given category.\n",
        "    Returns a dictionary with product name, category, description, and price.\n",
        "    The price is generate randomly with the base price of the prodcut and a random\n",
        "    value between - 5 to +5\n",
        "    \"\"\"\n",
        "    category = random.choice(list(categories.keys()))\n",
        "    product_name = random.choice(categories[category])\n",
        "    description = descriptions[product_name]\n",
        "    rating = random.choice([2.7, 3, 3.5, 3.7, 3.8, 4.0, 4.4, 4.5, 4.8, 5])\n",
        "    price = base_prices[product_name] + round(random.uniform(-5, 5), 2)\n",
        "    if rating <= 3.8 and price >= base_prices[product_name]:\n",
        "        recommendation = 'Not Recommended'\n",
        "    elif rating > 3.8 and rating <= 4.5 and price <= base_prices[product_name]:\n",
        "        recommendation = 'Recommended'\n",
        "    else:\n",
        "        recommendation = 'Recommended'\n",
        "\n",
        "    return {\n",
        "        \"product_name\": product_name,\n",
        "        \"category\": category,\n",
        "        \"description\": description,\n",
        "        \"rating\": rating,\n",
        "        \"price\": price,\n",
        "        \"recommendation\": recommendation\n",
        "    }"
      ],
      "metadata": {
        "id": "XF7_4OqYouub"
      },
      "execution_count": 87,
      "outputs": []
    },
    {
      "cell_type": "code",
      "source": [
        "## Generate the dataset ##\n",
        "%%time\n",
        "data = [generate_product_data() for _ in range(2000)]"
      ],
      "metadata": {
        "colab": {
          "base_uri": "https://localhost:8080/"
        },
        "id": "h8EFR_3ptXEd",
        "outputId": "81491086-bd77-4d24-eb42-30e83df0bf2e"
      },
      "execution_count": 88,
      "outputs": [
        {
          "output_type": "stream",
          "name": "stdout",
          "text": [
            "CPU times: user 14.5 ms, sys: 0 ns, total: 14.5 ms\n",
            "Wall time: 23.2 ms\n"
          ]
        }
      ]
    },
    {
      "cell_type": "code",
      "source": [
        "df = pd.DataFrame(data)"
      ],
      "metadata": {
        "id": "r2IYxu4ctaLN"
      },
      "execution_count": 89,
      "outputs": []
    },
    {
      "cell_type": "code",
      "source": [
        "df.head()"
      ],
      "metadata": {
        "colab": {
          "base_uri": "https://localhost:8080/",
          "height": 206
        },
        "id": "OEuObpUSve78",
        "outputId": "0df68878-7116-4e1e-d1eb-d732f58360e5"
      },
      "execution_count": 90,
      "outputs": [
        {
          "output_type": "execute_result",
          "data": {
            "text/plain": [
              "    product_name     category  \\\n",
              "0         Camera  Electronics   \n",
              "1  Mystery Novel        Books   \n",
              "2        T-Shirt     Clothing   \n",
              "3        Sweater     Clothing   \n",
              "4         Laptop  Electronics   \n",
              "\n",
              "                                         description  rating    price  \\\n",
              "0  A digital camera with high resolution and opti...     5.0   497.70   \n",
              "1  A thrilling mystery novel with unexpected twis...     4.5    14.50   \n",
              "2  A comfortable cotton t-shirt available in vari...     3.0    19.87   \n",
              "3                A cozy sweater made from soft wool.     4.0    57.35   \n",
              "4  A lightweight laptop with 16GB RAM and 512GB SSD.     3.5  1197.80   \n",
              "\n",
              "  recommendation  \n",
              "0    Recommended  \n",
              "1    Recommended  \n",
              "2    Recommended  \n",
              "3    Recommended  \n",
              "4    Recommended  "
            ],
            "text/html": [
              "\n",
              "  <div id=\"df-279dc55f-2fe1-4ce6-98d3-2818d9bce863\" class=\"colab-df-container\">\n",
              "    <div>\n",
              "<style scoped>\n",
              "    .dataframe tbody tr th:only-of-type {\n",
              "        vertical-align: middle;\n",
              "    }\n",
              "\n",
              "    .dataframe tbody tr th {\n",
              "        vertical-align: top;\n",
              "    }\n",
              "\n",
              "    .dataframe thead th {\n",
              "        text-align: right;\n",
              "    }\n",
              "</style>\n",
              "<table border=\"1\" class=\"dataframe\">\n",
              "  <thead>\n",
              "    <tr style=\"text-align: right;\">\n",
              "      <th></th>\n",
              "      <th>product_name</th>\n",
              "      <th>category</th>\n",
              "      <th>description</th>\n",
              "      <th>rating</th>\n",
              "      <th>price</th>\n",
              "      <th>recommendation</th>\n",
              "    </tr>\n",
              "  </thead>\n",
              "  <tbody>\n",
              "    <tr>\n",
              "      <th>0</th>\n",
              "      <td>Camera</td>\n",
              "      <td>Electronics</td>\n",
              "      <td>A digital camera with high resolution and opti...</td>\n",
              "      <td>5.0</td>\n",
              "      <td>497.70</td>\n",
              "      <td>Recommended</td>\n",
              "    </tr>\n",
              "    <tr>\n",
              "      <th>1</th>\n",
              "      <td>Mystery Novel</td>\n",
              "      <td>Books</td>\n",
              "      <td>A thrilling mystery novel with unexpected twis...</td>\n",
              "      <td>4.5</td>\n",
              "      <td>14.50</td>\n",
              "      <td>Recommended</td>\n",
              "    </tr>\n",
              "    <tr>\n",
              "      <th>2</th>\n",
              "      <td>T-Shirt</td>\n",
              "      <td>Clothing</td>\n",
              "      <td>A comfortable cotton t-shirt available in vari...</td>\n",
              "      <td>3.0</td>\n",
              "      <td>19.87</td>\n",
              "      <td>Recommended</td>\n",
              "    </tr>\n",
              "    <tr>\n",
              "      <th>3</th>\n",
              "      <td>Sweater</td>\n",
              "      <td>Clothing</td>\n",
              "      <td>A cozy sweater made from soft wool.</td>\n",
              "      <td>4.0</td>\n",
              "      <td>57.35</td>\n",
              "      <td>Recommended</td>\n",
              "    </tr>\n",
              "    <tr>\n",
              "      <th>4</th>\n",
              "      <td>Laptop</td>\n",
              "      <td>Electronics</td>\n",
              "      <td>A lightweight laptop with 16GB RAM and 512GB SSD.</td>\n",
              "      <td>3.5</td>\n",
              "      <td>1197.80</td>\n",
              "      <td>Recommended</td>\n",
              "    </tr>\n",
              "  </tbody>\n",
              "</table>\n",
              "</div>\n",
              "    <div class=\"colab-df-buttons\">\n",
              "\n",
              "  <div class=\"colab-df-container\">\n",
              "    <button class=\"colab-df-convert\" onclick=\"convertToInteractive('df-279dc55f-2fe1-4ce6-98d3-2818d9bce863')\"\n",
              "            title=\"Convert this dataframe to an interactive table.\"\n",
              "            style=\"display:none;\">\n",
              "\n",
              "  <svg xmlns=\"http://www.w3.org/2000/svg\" height=\"24px\" viewBox=\"0 -960 960 960\">\n",
              "    <path d=\"M120-120v-720h720v720H120Zm60-500h600v-160H180v160Zm220 220h160v-160H400v160Zm0 220h160v-160H400v160ZM180-400h160v-160H180v160Zm440 0h160v-160H620v160ZM180-180h160v-160H180v160Zm440 0h160v-160H620v160Z\"/>\n",
              "  </svg>\n",
              "    </button>\n",
              "\n",
              "  <style>\n",
              "    .colab-df-container {\n",
              "      display:flex;\n",
              "      gap: 12px;\n",
              "    }\n",
              "\n",
              "    .colab-df-convert {\n",
              "      background-color: #E8F0FE;\n",
              "      border: none;\n",
              "      border-radius: 50%;\n",
              "      cursor: pointer;\n",
              "      display: none;\n",
              "      fill: #1967D2;\n",
              "      height: 32px;\n",
              "      padding: 0 0 0 0;\n",
              "      width: 32px;\n",
              "    }\n",
              "\n",
              "    .colab-df-convert:hover {\n",
              "      background-color: #E2EBFA;\n",
              "      box-shadow: 0px 1px 2px rgba(60, 64, 67, 0.3), 0px 1px 3px 1px rgba(60, 64, 67, 0.15);\n",
              "      fill: #174EA6;\n",
              "    }\n",
              "\n",
              "    .colab-df-buttons div {\n",
              "      margin-bottom: 4px;\n",
              "    }\n",
              "\n",
              "    [theme=dark] .colab-df-convert {\n",
              "      background-color: #3B4455;\n",
              "      fill: #D2E3FC;\n",
              "    }\n",
              "\n",
              "    [theme=dark] .colab-df-convert:hover {\n",
              "      background-color: #434B5C;\n",
              "      box-shadow: 0px 1px 3px 1px rgba(0, 0, 0, 0.15);\n",
              "      filter: drop-shadow(0px 1px 2px rgba(0, 0, 0, 0.3));\n",
              "      fill: #FFFFFF;\n",
              "    }\n",
              "  </style>\n",
              "\n",
              "    <script>\n",
              "      const buttonEl =\n",
              "        document.querySelector('#df-279dc55f-2fe1-4ce6-98d3-2818d9bce863 button.colab-df-convert');\n",
              "      buttonEl.style.display =\n",
              "        google.colab.kernel.accessAllowed ? 'block' : 'none';\n",
              "\n",
              "      async function convertToInteractive(key) {\n",
              "        const element = document.querySelector('#df-279dc55f-2fe1-4ce6-98d3-2818d9bce863');\n",
              "        const dataTable =\n",
              "          await google.colab.kernel.invokeFunction('convertToInteractive',\n",
              "                                                    [key], {});\n",
              "        if (!dataTable) return;\n",
              "\n",
              "        const docLinkHtml = 'Like what you see? Visit the ' +\n",
              "          '<a target=\"_blank\" href=https://colab.research.google.com/notebooks/data_table.ipynb>data table notebook</a>'\n",
              "          + ' to learn more about interactive tables.';\n",
              "        element.innerHTML = '';\n",
              "        dataTable['output_type'] = 'display_data';\n",
              "        await google.colab.output.renderOutput(dataTable, element);\n",
              "        const docLink = document.createElement('div');\n",
              "        docLink.innerHTML = docLinkHtml;\n",
              "        element.appendChild(docLink);\n",
              "      }\n",
              "    </script>\n",
              "  </div>\n",
              "\n",
              "\n",
              "<div id=\"df-fd7bb98c-2eea-4c66-bc59-596233177d48\">\n",
              "  <button class=\"colab-df-quickchart\" onclick=\"quickchart('df-fd7bb98c-2eea-4c66-bc59-596233177d48')\"\n",
              "            title=\"Suggest charts\"\n",
              "            style=\"display:none;\">\n",
              "\n",
              "<svg xmlns=\"http://www.w3.org/2000/svg\" height=\"24px\"viewBox=\"0 0 24 24\"\n",
              "     width=\"24px\">\n",
              "    <g>\n",
              "        <path d=\"M19 3H5c-1.1 0-2 .9-2 2v14c0 1.1.9 2 2 2h14c1.1 0 2-.9 2-2V5c0-1.1-.9-2-2-2zM9 17H7v-7h2v7zm4 0h-2V7h2v10zm4 0h-2v-4h2v4z\"/>\n",
              "    </g>\n",
              "</svg>\n",
              "  </button>\n",
              "\n",
              "<style>\n",
              "  .colab-df-quickchart {\n",
              "      --bg-color: #E8F0FE;\n",
              "      --fill-color: #1967D2;\n",
              "      --hover-bg-color: #E2EBFA;\n",
              "      --hover-fill-color: #174EA6;\n",
              "      --disabled-fill-color: #AAA;\n",
              "      --disabled-bg-color: #DDD;\n",
              "  }\n",
              "\n",
              "  [theme=dark] .colab-df-quickchart {\n",
              "      --bg-color: #3B4455;\n",
              "      --fill-color: #D2E3FC;\n",
              "      --hover-bg-color: #434B5C;\n",
              "      --hover-fill-color: #FFFFFF;\n",
              "      --disabled-bg-color: #3B4455;\n",
              "      --disabled-fill-color: #666;\n",
              "  }\n",
              "\n",
              "  .colab-df-quickchart {\n",
              "    background-color: var(--bg-color);\n",
              "    border: none;\n",
              "    border-radius: 50%;\n",
              "    cursor: pointer;\n",
              "    display: none;\n",
              "    fill: var(--fill-color);\n",
              "    height: 32px;\n",
              "    padding: 0;\n",
              "    width: 32px;\n",
              "  }\n",
              "\n",
              "  .colab-df-quickchart:hover {\n",
              "    background-color: var(--hover-bg-color);\n",
              "    box-shadow: 0 1px 2px rgba(60, 64, 67, 0.3), 0 1px 3px 1px rgba(60, 64, 67, 0.15);\n",
              "    fill: var(--button-hover-fill-color);\n",
              "  }\n",
              "\n",
              "  .colab-df-quickchart-complete:disabled,\n",
              "  .colab-df-quickchart-complete:disabled:hover {\n",
              "    background-color: var(--disabled-bg-color);\n",
              "    fill: var(--disabled-fill-color);\n",
              "    box-shadow: none;\n",
              "  }\n",
              "\n",
              "  .colab-df-spinner {\n",
              "    border: 2px solid var(--fill-color);\n",
              "    border-color: transparent;\n",
              "    border-bottom-color: var(--fill-color);\n",
              "    animation:\n",
              "      spin 1s steps(1) infinite;\n",
              "  }\n",
              "\n",
              "  @keyframes spin {\n",
              "    0% {\n",
              "      border-color: transparent;\n",
              "      border-bottom-color: var(--fill-color);\n",
              "      border-left-color: var(--fill-color);\n",
              "    }\n",
              "    20% {\n",
              "      border-color: transparent;\n",
              "      border-left-color: var(--fill-color);\n",
              "      border-top-color: var(--fill-color);\n",
              "    }\n",
              "    30% {\n",
              "      border-color: transparent;\n",
              "      border-left-color: var(--fill-color);\n",
              "      border-top-color: var(--fill-color);\n",
              "      border-right-color: var(--fill-color);\n",
              "    }\n",
              "    40% {\n",
              "      border-color: transparent;\n",
              "      border-right-color: var(--fill-color);\n",
              "      border-top-color: var(--fill-color);\n",
              "    }\n",
              "    60% {\n",
              "      border-color: transparent;\n",
              "      border-right-color: var(--fill-color);\n",
              "    }\n",
              "    80% {\n",
              "      border-color: transparent;\n",
              "      border-right-color: var(--fill-color);\n",
              "      border-bottom-color: var(--fill-color);\n",
              "    }\n",
              "    90% {\n",
              "      border-color: transparent;\n",
              "      border-bottom-color: var(--fill-color);\n",
              "    }\n",
              "  }\n",
              "</style>\n",
              "\n",
              "  <script>\n",
              "    async function quickchart(key) {\n",
              "      const quickchartButtonEl =\n",
              "        document.querySelector('#' + key + ' button');\n",
              "      quickchartButtonEl.disabled = true;  // To prevent multiple clicks.\n",
              "      quickchartButtonEl.classList.add('colab-df-spinner');\n",
              "      try {\n",
              "        const charts = await google.colab.kernel.invokeFunction(\n",
              "            'suggestCharts', [key], {});\n",
              "      } catch (error) {\n",
              "        console.error('Error during call to suggestCharts:', error);\n",
              "      }\n",
              "      quickchartButtonEl.classList.remove('colab-df-spinner');\n",
              "      quickchartButtonEl.classList.add('colab-df-quickchart-complete');\n",
              "    }\n",
              "    (() => {\n",
              "      let quickchartButtonEl =\n",
              "        document.querySelector('#df-fd7bb98c-2eea-4c66-bc59-596233177d48 button');\n",
              "      quickchartButtonEl.style.display =\n",
              "        google.colab.kernel.accessAllowed ? 'block' : 'none';\n",
              "    })();\n",
              "  </script>\n",
              "</div>\n",
              "\n",
              "    </div>\n",
              "  </div>\n"
            ],
            "application/vnd.google.colaboratory.intrinsic+json": {
              "type": "dataframe",
              "variable_name": "df",
              "summary": "{\n  \"name\": \"df\",\n  \"rows\": 2000,\n  \"fields\": [\n    {\n      \"column\": \"product_name\",\n      \"properties\": {\n        \"dtype\": \"category\",\n        \"num_unique_values\": 20,\n        \"samples\": [\n          \"Camera\",\n          \"Toaster\",\n          \"Jacket\"\n        ],\n        \"semantic_type\": \"\",\n        \"description\": \"\"\n      }\n    },\n    {\n      \"column\": \"category\",\n      \"properties\": {\n        \"dtype\": \"category\",\n        \"num_unique_values\": 4,\n        \"samples\": [\n          \"Books\",\n          \"Home & Kitchen\",\n          \"Electronics\"\n        ],\n        \"semantic_type\": \"\",\n        \"description\": \"\"\n      }\n    },\n    {\n      \"column\": \"description\",\n      \"properties\": {\n        \"dtype\": \"category\",\n        \"num_unique_values\": 20,\n        \"samples\": [\n          \"A digital camera with high resolution and optical zoom.\",\n          \"A compact toaster with adjustable browning settings.\",\n          \"A warm jacket perfect for cold weather.\"\n        ],\n        \"semantic_type\": \"\",\n        \"description\": \"\"\n      }\n    },\n    {\n      \"column\": \"rating\",\n      \"properties\": {\n        \"dtype\": \"number\",\n        \"std\": 0.714679705211027,\n        \"min\": 2.7,\n        \"max\": 5.0,\n        \"num_unique_values\": 10,\n        \"samples\": [\n          3.8,\n          4.5,\n          4.4\n        ],\n        \"semantic_type\": \"\",\n        \"description\": \"\"\n      }\n    },\n    {\n      \"column\": \"price\",\n      \"properties\": {\n        \"dtype\": \"number\",\n        \"std\": 290.9138920074554,\n        \"min\": 10.100000000000001,\n        \"max\": 1204.76,\n        \"num_unique_values\": 1832,\n        \"samples\": [\n          26.11,\n          202.83,\n          25.75\n        ],\n        \"semantic_type\": \"\",\n        \"description\": \"\"\n      }\n    },\n    {\n      \"column\": \"recommendation\",\n      \"properties\": {\n        \"dtype\": \"category\",\n        \"num_unique_values\": 2,\n        \"samples\": [\n          \"Not Recommended\",\n          \"Recommended\"\n        ],\n        \"semantic_type\": \"\",\n        \"description\": \"\"\n      }\n    }\n  ]\n}"
            }
          },
          "metadata": {},
          "execution_count": 90
        }
      ]
    },
    {
      "cell_type": "markdown",
      "source": [
        "# Data Preprocessing"
      ],
      "metadata": {
        "id": "TqTt9-0JHuI0"
      }
    },
    {
      "cell_type": "markdown",
      "source": [
        "For data preprocessing,\n",
        "\n",
        "1. I've encoded the labels.\n",
        "\n",
        "    * **0** for **\"Not Recommended\"** and **1** for **\"Recommended\"**\n",
        "2. Creating a combined features colum using the **Product Name**, **Category**, **Description**, **Rating**, **Price**\n",
        "\n",
        "3. **Tokenizing** the combined data"
      ],
      "metadata": {
        "id": "RzFm9zgiHwno"
      }
    },
    {
      "cell_type": "code",
      "source": [
        "# Label encoding\n",
        "df['recommendation'] = df['recommendation'].map({'Recommended': 1, 'Not Recommended': 0})"
      ],
      "metadata": {
        "id": "ulDA85FRvqIt"
      },
      "execution_count": 91,
      "outputs": []
    },
    {
      "cell_type": "code",
      "source": [
        "df.head()"
      ],
      "metadata": {
        "colab": {
          "base_uri": "https://localhost:8080/",
          "height": 206
        },
        "id": "OPXmAwbe1hyn",
        "outputId": "04cc46bc-5bef-4d79-ed58-ea184fddff68"
      },
      "execution_count": 92,
      "outputs": [
        {
          "output_type": "execute_result",
          "data": {
            "text/plain": [
              "    product_name     category  \\\n",
              "0         Camera  Electronics   \n",
              "1  Mystery Novel        Books   \n",
              "2        T-Shirt     Clothing   \n",
              "3        Sweater     Clothing   \n",
              "4         Laptop  Electronics   \n",
              "\n",
              "                                         description  rating    price  \\\n",
              "0  A digital camera with high resolution and opti...     5.0   497.70   \n",
              "1  A thrilling mystery novel with unexpected twis...     4.5    14.50   \n",
              "2  A comfortable cotton t-shirt available in vari...     3.0    19.87   \n",
              "3                A cozy sweater made from soft wool.     4.0    57.35   \n",
              "4  A lightweight laptop with 16GB RAM and 512GB SSD.     3.5  1197.80   \n",
              "\n",
              "   recommendation  \n",
              "0               1  \n",
              "1               1  \n",
              "2               1  \n",
              "3               1  \n",
              "4               1  "
            ],
            "text/html": [
              "\n",
              "  <div id=\"df-a981ad54-d099-478f-a96f-4dc646ea317c\" class=\"colab-df-container\">\n",
              "    <div>\n",
              "<style scoped>\n",
              "    .dataframe tbody tr th:only-of-type {\n",
              "        vertical-align: middle;\n",
              "    }\n",
              "\n",
              "    .dataframe tbody tr th {\n",
              "        vertical-align: top;\n",
              "    }\n",
              "\n",
              "    .dataframe thead th {\n",
              "        text-align: right;\n",
              "    }\n",
              "</style>\n",
              "<table border=\"1\" class=\"dataframe\">\n",
              "  <thead>\n",
              "    <tr style=\"text-align: right;\">\n",
              "      <th></th>\n",
              "      <th>product_name</th>\n",
              "      <th>category</th>\n",
              "      <th>description</th>\n",
              "      <th>rating</th>\n",
              "      <th>price</th>\n",
              "      <th>recommendation</th>\n",
              "    </tr>\n",
              "  </thead>\n",
              "  <tbody>\n",
              "    <tr>\n",
              "      <th>0</th>\n",
              "      <td>Camera</td>\n",
              "      <td>Electronics</td>\n",
              "      <td>A digital camera with high resolution and opti...</td>\n",
              "      <td>5.0</td>\n",
              "      <td>497.70</td>\n",
              "      <td>1</td>\n",
              "    </tr>\n",
              "    <tr>\n",
              "      <th>1</th>\n",
              "      <td>Mystery Novel</td>\n",
              "      <td>Books</td>\n",
              "      <td>A thrilling mystery novel with unexpected twis...</td>\n",
              "      <td>4.5</td>\n",
              "      <td>14.50</td>\n",
              "      <td>1</td>\n",
              "    </tr>\n",
              "    <tr>\n",
              "      <th>2</th>\n",
              "      <td>T-Shirt</td>\n",
              "      <td>Clothing</td>\n",
              "      <td>A comfortable cotton t-shirt available in vari...</td>\n",
              "      <td>3.0</td>\n",
              "      <td>19.87</td>\n",
              "      <td>1</td>\n",
              "    </tr>\n",
              "    <tr>\n",
              "      <th>3</th>\n",
              "      <td>Sweater</td>\n",
              "      <td>Clothing</td>\n",
              "      <td>A cozy sweater made from soft wool.</td>\n",
              "      <td>4.0</td>\n",
              "      <td>57.35</td>\n",
              "      <td>1</td>\n",
              "    </tr>\n",
              "    <tr>\n",
              "      <th>4</th>\n",
              "      <td>Laptop</td>\n",
              "      <td>Electronics</td>\n",
              "      <td>A lightweight laptop with 16GB RAM and 512GB SSD.</td>\n",
              "      <td>3.5</td>\n",
              "      <td>1197.80</td>\n",
              "      <td>1</td>\n",
              "    </tr>\n",
              "  </tbody>\n",
              "</table>\n",
              "</div>\n",
              "    <div class=\"colab-df-buttons\">\n",
              "\n",
              "  <div class=\"colab-df-container\">\n",
              "    <button class=\"colab-df-convert\" onclick=\"convertToInteractive('df-a981ad54-d099-478f-a96f-4dc646ea317c')\"\n",
              "            title=\"Convert this dataframe to an interactive table.\"\n",
              "            style=\"display:none;\">\n",
              "\n",
              "  <svg xmlns=\"http://www.w3.org/2000/svg\" height=\"24px\" viewBox=\"0 -960 960 960\">\n",
              "    <path d=\"M120-120v-720h720v720H120Zm60-500h600v-160H180v160Zm220 220h160v-160H400v160Zm0 220h160v-160H400v160ZM180-400h160v-160H180v160Zm440 0h160v-160H620v160ZM180-180h160v-160H180v160Zm440 0h160v-160H620v160Z\"/>\n",
              "  </svg>\n",
              "    </button>\n",
              "\n",
              "  <style>\n",
              "    .colab-df-container {\n",
              "      display:flex;\n",
              "      gap: 12px;\n",
              "    }\n",
              "\n",
              "    .colab-df-convert {\n",
              "      background-color: #E8F0FE;\n",
              "      border: none;\n",
              "      border-radius: 50%;\n",
              "      cursor: pointer;\n",
              "      display: none;\n",
              "      fill: #1967D2;\n",
              "      height: 32px;\n",
              "      padding: 0 0 0 0;\n",
              "      width: 32px;\n",
              "    }\n",
              "\n",
              "    .colab-df-convert:hover {\n",
              "      background-color: #E2EBFA;\n",
              "      box-shadow: 0px 1px 2px rgba(60, 64, 67, 0.3), 0px 1px 3px 1px rgba(60, 64, 67, 0.15);\n",
              "      fill: #174EA6;\n",
              "    }\n",
              "\n",
              "    .colab-df-buttons div {\n",
              "      margin-bottom: 4px;\n",
              "    }\n",
              "\n",
              "    [theme=dark] .colab-df-convert {\n",
              "      background-color: #3B4455;\n",
              "      fill: #D2E3FC;\n",
              "    }\n",
              "\n",
              "    [theme=dark] .colab-df-convert:hover {\n",
              "      background-color: #434B5C;\n",
              "      box-shadow: 0px 1px 3px 1px rgba(0, 0, 0, 0.15);\n",
              "      filter: drop-shadow(0px 1px 2px rgba(0, 0, 0, 0.3));\n",
              "      fill: #FFFFFF;\n",
              "    }\n",
              "  </style>\n",
              "\n",
              "    <script>\n",
              "      const buttonEl =\n",
              "        document.querySelector('#df-a981ad54-d099-478f-a96f-4dc646ea317c button.colab-df-convert');\n",
              "      buttonEl.style.display =\n",
              "        google.colab.kernel.accessAllowed ? 'block' : 'none';\n",
              "\n",
              "      async function convertToInteractive(key) {\n",
              "        const element = document.querySelector('#df-a981ad54-d099-478f-a96f-4dc646ea317c');\n",
              "        const dataTable =\n",
              "          await google.colab.kernel.invokeFunction('convertToInteractive',\n",
              "                                                    [key], {});\n",
              "        if (!dataTable) return;\n",
              "\n",
              "        const docLinkHtml = 'Like what you see? Visit the ' +\n",
              "          '<a target=\"_blank\" href=https://colab.research.google.com/notebooks/data_table.ipynb>data table notebook</a>'\n",
              "          + ' to learn more about interactive tables.';\n",
              "        element.innerHTML = '';\n",
              "        dataTable['output_type'] = 'display_data';\n",
              "        await google.colab.output.renderOutput(dataTable, element);\n",
              "        const docLink = document.createElement('div');\n",
              "        docLink.innerHTML = docLinkHtml;\n",
              "        element.appendChild(docLink);\n",
              "      }\n",
              "    </script>\n",
              "  </div>\n",
              "\n",
              "\n",
              "<div id=\"df-31e9fc23-8cc6-44d7-9834-e6f1ba00833d\">\n",
              "  <button class=\"colab-df-quickchart\" onclick=\"quickchart('df-31e9fc23-8cc6-44d7-9834-e6f1ba00833d')\"\n",
              "            title=\"Suggest charts\"\n",
              "            style=\"display:none;\">\n",
              "\n",
              "<svg xmlns=\"http://www.w3.org/2000/svg\" height=\"24px\"viewBox=\"0 0 24 24\"\n",
              "     width=\"24px\">\n",
              "    <g>\n",
              "        <path d=\"M19 3H5c-1.1 0-2 .9-2 2v14c0 1.1.9 2 2 2h14c1.1 0 2-.9 2-2V5c0-1.1-.9-2-2-2zM9 17H7v-7h2v7zm4 0h-2V7h2v10zm4 0h-2v-4h2v4z\"/>\n",
              "    </g>\n",
              "</svg>\n",
              "  </button>\n",
              "\n",
              "<style>\n",
              "  .colab-df-quickchart {\n",
              "      --bg-color: #E8F0FE;\n",
              "      --fill-color: #1967D2;\n",
              "      --hover-bg-color: #E2EBFA;\n",
              "      --hover-fill-color: #174EA6;\n",
              "      --disabled-fill-color: #AAA;\n",
              "      --disabled-bg-color: #DDD;\n",
              "  }\n",
              "\n",
              "  [theme=dark] .colab-df-quickchart {\n",
              "      --bg-color: #3B4455;\n",
              "      --fill-color: #D2E3FC;\n",
              "      --hover-bg-color: #434B5C;\n",
              "      --hover-fill-color: #FFFFFF;\n",
              "      --disabled-bg-color: #3B4455;\n",
              "      --disabled-fill-color: #666;\n",
              "  }\n",
              "\n",
              "  .colab-df-quickchart {\n",
              "    background-color: var(--bg-color);\n",
              "    border: none;\n",
              "    border-radius: 50%;\n",
              "    cursor: pointer;\n",
              "    display: none;\n",
              "    fill: var(--fill-color);\n",
              "    height: 32px;\n",
              "    padding: 0;\n",
              "    width: 32px;\n",
              "  }\n",
              "\n",
              "  .colab-df-quickchart:hover {\n",
              "    background-color: var(--hover-bg-color);\n",
              "    box-shadow: 0 1px 2px rgba(60, 64, 67, 0.3), 0 1px 3px 1px rgba(60, 64, 67, 0.15);\n",
              "    fill: var(--button-hover-fill-color);\n",
              "  }\n",
              "\n",
              "  .colab-df-quickchart-complete:disabled,\n",
              "  .colab-df-quickchart-complete:disabled:hover {\n",
              "    background-color: var(--disabled-bg-color);\n",
              "    fill: var(--disabled-fill-color);\n",
              "    box-shadow: none;\n",
              "  }\n",
              "\n",
              "  .colab-df-spinner {\n",
              "    border: 2px solid var(--fill-color);\n",
              "    border-color: transparent;\n",
              "    border-bottom-color: var(--fill-color);\n",
              "    animation:\n",
              "      spin 1s steps(1) infinite;\n",
              "  }\n",
              "\n",
              "  @keyframes spin {\n",
              "    0% {\n",
              "      border-color: transparent;\n",
              "      border-bottom-color: var(--fill-color);\n",
              "      border-left-color: var(--fill-color);\n",
              "    }\n",
              "    20% {\n",
              "      border-color: transparent;\n",
              "      border-left-color: var(--fill-color);\n",
              "      border-top-color: var(--fill-color);\n",
              "    }\n",
              "    30% {\n",
              "      border-color: transparent;\n",
              "      border-left-color: var(--fill-color);\n",
              "      border-top-color: var(--fill-color);\n",
              "      border-right-color: var(--fill-color);\n",
              "    }\n",
              "    40% {\n",
              "      border-color: transparent;\n",
              "      border-right-color: var(--fill-color);\n",
              "      border-top-color: var(--fill-color);\n",
              "    }\n",
              "    60% {\n",
              "      border-color: transparent;\n",
              "      border-right-color: var(--fill-color);\n",
              "    }\n",
              "    80% {\n",
              "      border-color: transparent;\n",
              "      border-right-color: var(--fill-color);\n",
              "      border-bottom-color: var(--fill-color);\n",
              "    }\n",
              "    90% {\n",
              "      border-color: transparent;\n",
              "      border-bottom-color: var(--fill-color);\n",
              "    }\n",
              "  }\n",
              "</style>\n",
              "\n",
              "  <script>\n",
              "    async function quickchart(key) {\n",
              "      const quickchartButtonEl =\n",
              "        document.querySelector('#' + key + ' button');\n",
              "      quickchartButtonEl.disabled = true;  // To prevent multiple clicks.\n",
              "      quickchartButtonEl.classList.add('colab-df-spinner');\n",
              "      try {\n",
              "        const charts = await google.colab.kernel.invokeFunction(\n",
              "            'suggestCharts', [key], {});\n",
              "      } catch (error) {\n",
              "        console.error('Error during call to suggestCharts:', error);\n",
              "      }\n",
              "      quickchartButtonEl.classList.remove('colab-df-spinner');\n",
              "      quickchartButtonEl.classList.add('colab-df-quickchart-complete');\n",
              "    }\n",
              "    (() => {\n",
              "      let quickchartButtonEl =\n",
              "        document.querySelector('#df-31e9fc23-8cc6-44d7-9834-e6f1ba00833d button');\n",
              "      quickchartButtonEl.style.display =\n",
              "        google.colab.kernel.accessAllowed ? 'block' : 'none';\n",
              "    })();\n",
              "  </script>\n",
              "</div>\n",
              "\n",
              "    </div>\n",
              "  </div>\n"
            ],
            "application/vnd.google.colaboratory.intrinsic+json": {
              "type": "dataframe",
              "variable_name": "df",
              "summary": "{\n  \"name\": \"df\",\n  \"rows\": 2000,\n  \"fields\": [\n    {\n      \"column\": \"product_name\",\n      \"properties\": {\n        \"dtype\": \"category\",\n        \"num_unique_values\": 20,\n        \"samples\": [\n          \"Camera\",\n          \"Toaster\",\n          \"Jacket\"\n        ],\n        \"semantic_type\": \"\",\n        \"description\": \"\"\n      }\n    },\n    {\n      \"column\": \"category\",\n      \"properties\": {\n        \"dtype\": \"category\",\n        \"num_unique_values\": 4,\n        \"samples\": [\n          \"Books\",\n          \"Home & Kitchen\",\n          \"Electronics\"\n        ],\n        \"semantic_type\": \"\",\n        \"description\": \"\"\n      }\n    },\n    {\n      \"column\": \"description\",\n      \"properties\": {\n        \"dtype\": \"category\",\n        \"num_unique_values\": 20,\n        \"samples\": [\n          \"A digital camera with high resolution and optical zoom.\",\n          \"A compact toaster with adjustable browning settings.\",\n          \"A warm jacket perfect for cold weather.\"\n        ],\n        \"semantic_type\": \"\",\n        \"description\": \"\"\n      }\n    },\n    {\n      \"column\": \"rating\",\n      \"properties\": {\n        \"dtype\": \"number\",\n        \"std\": 0.714679705211027,\n        \"min\": 2.7,\n        \"max\": 5.0,\n        \"num_unique_values\": 10,\n        \"samples\": [\n          3.8,\n          4.5,\n          4.4\n        ],\n        \"semantic_type\": \"\",\n        \"description\": \"\"\n      }\n    },\n    {\n      \"column\": \"price\",\n      \"properties\": {\n        \"dtype\": \"number\",\n        \"std\": 290.9138920074554,\n        \"min\": 10.100000000000001,\n        \"max\": 1204.76,\n        \"num_unique_values\": 1832,\n        \"samples\": [\n          26.11,\n          202.83,\n          25.75\n        ],\n        \"semantic_type\": \"\",\n        \"description\": \"\"\n      }\n    },\n    {\n      \"column\": \"recommendation\",\n      \"properties\": {\n        \"dtype\": \"number\",\n        \"std\": 0,\n        \"min\": 0,\n        \"max\": 1,\n        \"num_unique_values\": 2,\n        \"samples\": [\n          0,\n          1\n        ],\n        \"semantic_type\": \"\",\n        \"description\": \"\"\n      }\n    }\n  ]\n}"
            }
          },
          "metadata": {},
          "execution_count": 92
        }
      ]
    },
    {
      "cell_type": "code",
      "source": [
        "df['recommendation'].value_counts()"
      ],
      "metadata": {
        "colab": {
          "base_uri": "https://localhost:8080/"
        },
        "id": "5oH89-vw0cw-",
        "outputId": "63a809ee-6b97-4853-e8e0-a9c598df2874"
      },
      "execution_count": 93,
      "outputs": [
        {
          "output_type": "execute_result",
          "data": {
            "text/plain": [
              "recommendation\n",
              "1    1483\n",
              "0     517\n",
              "Name: count, dtype: int64"
            ]
          },
          "metadata": {},
          "execution_count": 93
        }
      ]
    },
    {
      "cell_type": "code",
      "source": [
        "# combining the all the features into one\n",
        "\n",
        "def combine_features(row):\n",
        "    features = \"This {} from the {} category is {} Product rating is {}.\"\\\n",
        "     \"The price of this product is {} USD.\".format(row['product_name'],\n",
        "                                                   row['category'],\n",
        "                                                   row['description'],\n",
        "                                                   row['rating'],\n",
        "                                                   row['price'])\n",
        "    return features"
      ],
      "metadata": {
        "id": "sCgpNNKg1i31"
      },
      "execution_count": 98,
      "outputs": []
    },
    {
      "cell_type": "code",
      "source": [
        "df['combined_features'] = df.apply(combine_features, axis=1)"
      ],
      "metadata": {
        "id": "x9WGl-fG25lR"
      },
      "execution_count": 99,
      "outputs": []
    },
    {
      "cell_type": "code",
      "source": [
        "df.head()"
      ],
      "metadata": {
        "colab": {
          "base_uri": "https://localhost:8080/",
          "height": 206
        },
        "id": "diQqJrnD3Brx",
        "outputId": "998642ac-43ca-46db-e6ad-70d1d4b0ce64"
      },
      "execution_count": 100,
      "outputs": [
        {
          "output_type": "execute_result",
          "data": {
            "text/plain": [
              "    product_name     category  \\\n",
              "0         Camera  Electronics   \n",
              "1  Mystery Novel        Books   \n",
              "2        T-Shirt     Clothing   \n",
              "3        Sweater     Clothing   \n",
              "4         Laptop  Electronics   \n",
              "\n",
              "                                         description  rating    price  \\\n",
              "0  A digital camera with high resolution and opti...     5.0   497.70   \n",
              "1  A thrilling mystery novel with unexpected twis...     4.5    14.50   \n",
              "2  A comfortable cotton t-shirt available in vari...     3.0    19.87   \n",
              "3                A cozy sweater made from soft wool.     4.0    57.35   \n",
              "4  A lightweight laptop with 16GB RAM and 512GB SSD.     3.5  1197.80   \n",
              "\n",
              "   recommendation                                  combined_features  \n",
              "0               1  This Camera from the Electronics category is A...  \n",
              "1               1  This Mystery Novel from the Books category is ...  \n",
              "2               1  This T-Shirt from the Clothing category is A c...  \n",
              "3               1  This Sweater from the Clothing category is A c...  \n",
              "4               1  This Laptop from the Electronics category is A...  "
            ],
            "text/html": [
              "\n",
              "  <div id=\"df-b67e57d8-3970-4662-bca8-8e0d32a1baae\" class=\"colab-df-container\">\n",
              "    <div>\n",
              "<style scoped>\n",
              "    .dataframe tbody tr th:only-of-type {\n",
              "        vertical-align: middle;\n",
              "    }\n",
              "\n",
              "    .dataframe tbody tr th {\n",
              "        vertical-align: top;\n",
              "    }\n",
              "\n",
              "    .dataframe thead th {\n",
              "        text-align: right;\n",
              "    }\n",
              "</style>\n",
              "<table border=\"1\" class=\"dataframe\">\n",
              "  <thead>\n",
              "    <tr style=\"text-align: right;\">\n",
              "      <th></th>\n",
              "      <th>product_name</th>\n",
              "      <th>category</th>\n",
              "      <th>description</th>\n",
              "      <th>rating</th>\n",
              "      <th>price</th>\n",
              "      <th>recommendation</th>\n",
              "      <th>combined_features</th>\n",
              "    </tr>\n",
              "  </thead>\n",
              "  <tbody>\n",
              "    <tr>\n",
              "      <th>0</th>\n",
              "      <td>Camera</td>\n",
              "      <td>Electronics</td>\n",
              "      <td>A digital camera with high resolution and opti...</td>\n",
              "      <td>5.0</td>\n",
              "      <td>497.70</td>\n",
              "      <td>1</td>\n",
              "      <td>This Camera from the Electronics category is A...</td>\n",
              "    </tr>\n",
              "    <tr>\n",
              "      <th>1</th>\n",
              "      <td>Mystery Novel</td>\n",
              "      <td>Books</td>\n",
              "      <td>A thrilling mystery novel with unexpected twis...</td>\n",
              "      <td>4.5</td>\n",
              "      <td>14.50</td>\n",
              "      <td>1</td>\n",
              "      <td>This Mystery Novel from the Books category is ...</td>\n",
              "    </tr>\n",
              "    <tr>\n",
              "      <th>2</th>\n",
              "      <td>T-Shirt</td>\n",
              "      <td>Clothing</td>\n",
              "      <td>A comfortable cotton t-shirt available in vari...</td>\n",
              "      <td>3.0</td>\n",
              "      <td>19.87</td>\n",
              "      <td>1</td>\n",
              "      <td>This T-Shirt from the Clothing category is A c...</td>\n",
              "    </tr>\n",
              "    <tr>\n",
              "      <th>3</th>\n",
              "      <td>Sweater</td>\n",
              "      <td>Clothing</td>\n",
              "      <td>A cozy sweater made from soft wool.</td>\n",
              "      <td>4.0</td>\n",
              "      <td>57.35</td>\n",
              "      <td>1</td>\n",
              "      <td>This Sweater from the Clothing category is A c...</td>\n",
              "    </tr>\n",
              "    <tr>\n",
              "      <th>4</th>\n",
              "      <td>Laptop</td>\n",
              "      <td>Electronics</td>\n",
              "      <td>A lightweight laptop with 16GB RAM and 512GB SSD.</td>\n",
              "      <td>3.5</td>\n",
              "      <td>1197.80</td>\n",
              "      <td>1</td>\n",
              "      <td>This Laptop from the Electronics category is A...</td>\n",
              "    </tr>\n",
              "  </tbody>\n",
              "</table>\n",
              "</div>\n",
              "    <div class=\"colab-df-buttons\">\n",
              "\n",
              "  <div class=\"colab-df-container\">\n",
              "    <button class=\"colab-df-convert\" onclick=\"convertToInteractive('df-b67e57d8-3970-4662-bca8-8e0d32a1baae')\"\n",
              "            title=\"Convert this dataframe to an interactive table.\"\n",
              "            style=\"display:none;\">\n",
              "\n",
              "  <svg xmlns=\"http://www.w3.org/2000/svg\" height=\"24px\" viewBox=\"0 -960 960 960\">\n",
              "    <path d=\"M120-120v-720h720v720H120Zm60-500h600v-160H180v160Zm220 220h160v-160H400v160Zm0 220h160v-160H400v160ZM180-400h160v-160H180v160Zm440 0h160v-160H620v160ZM180-180h160v-160H180v160Zm440 0h160v-160H620v160Z\"/>\n",
              "  </svg>\n",
              "    </button>\n",
              "\n",
              "  <style>\n",
              "    .colab-df-container {\n",
              "      display:flex;\n",
              "      gap: 12px;\n",
              "    }\n",
              "\n",
              "    .colab-df-convert {\n",
              "      background-color: #E8F0FE;\n",
              "      border: none;\n",
              "      border-radius: 50%;\n",
              "      cursor: pointer;\n",
              "      display: none;\n",
              "      fill: #1967D2;\n",
              "      height: 32px;\n",
              "      padding: 0 0 0 0;\n",
              "      width: 32px;\n",
              "    }\n",
              "\n",
              "    .colab-df-convert:hover {\n",
              "      background-color: #E2EBFA;\n",
              "      box-shadow: 0px 1px 2px rgba(60, 64, 67, 0.3), 0px 1px 3px 1px rgba(60, 64, 67, 0.15);\n",
              "      fill: #174EA6;\n",
              "    }\n",
              "\n",
              "    .colab-df-buttons div {\n",
              "      margin-bottom: 4px;\n",
              "    }\n",
              "\n",
              "    [theme=dark] .colab-df-convert {\n",
              "      background-color: #3B4455;\n",
              "      fill: #D2E3FC;\n",
              "    }\n",
              "\n",
              "    [theme=dark] .colab-df-convert:hover {\n",
              "      background-color: #434B5C;\n",
              "      box-shadow: 0px 1px 3px 1px rgba(0, 0, 0, 0.15);\n",
              "      filter: drop-shadow(0px 1px 2px rgba(0, 0, 0, 0.3));\n",
              "      fill: #FFFFFF;\n",
              "    }\n",
              "  </style>\n",
              "\n",
              "    <script>\n",
              "      const buttonEl =\n",
              "        document.querySelector('#df-b67e57d8-3970-4662-bca8-8e0d32a1baae button.colab-df-convert');\n",
              "      buttonEl.style.display =\n",
              "        google.colab.kernel.accessAllowed ? 'block' : 'none';\n",
              "\n",
              "      async function convertToInteractive(key) {\n",
              "        const element = document.querySelector('#df-b67e57d8-3970-4662-bca8-8e0d32a1baae');\n",
              "        const dataTable =\n",
              "          await google.colab.kernel.invokeFunction('convertToInteractive',\n",
              "                                                    [key], {});\n",
              "        if (!dataTable) return;\n",
              "\n",
              "        const docLinkHtml = 'Like what you see? Visit the ' +\n",
              "          '<a target=\"_blank\" href=https://colab.research.google.com/notebooks/data_table.ipynb>data table notebook</a>'\n",
              "          + ' to learn more about interactive tables.';\n",
              "        element.innerHTML = '';\n",
              "        dataTable['output_type'] = 'display_data';\n",
              "        await google.colab.output.renderOutput(dataTable, element);\n",
              "        const docLink = document.createElement('div');\n",
              "        docLink.innerHTML = docLinkHtml;\n",
              "        element.appendChild(docLink);\n",
              "      }\n",
              "    </script>\n",
              "  </div>\n",
              "\n",
              "\n",
              "<div id=\"df-93ad5a59-e391-4940-b6d4-7b9cf897583d\">\n",
              "  <button class=\"colab-df-quickchart\" onclick=\"quickchart('df-93ad5a59-e391-4940-b6d4-7b9cf897583d')\"\n",
              "            title=\"Suggest charts\"\n",
              "            style=\"display:none;\">\n",
              "\n",
              "<svg xmlns=\"http://www.w3.org/2000/svg\" height=\"24px\"viewBox=\"0 0 24 24\"\n",
              "     width=\"24px\">\n",
              "    <g>\n",
              "        <path d=\"M19 3H5c-1.1 0-2 .9-2 2v14c0 1.1.9 2 2 2h14c1.1 0 2-.9 2-2V5c0-1.1-.9-2-2-2zM9 17H7v-7h2v7zm4 0h-2V7h2v10zm4 0h-2v-4h2v4z\"/>\n",
              "    </g>\n",
              "</svg>\n",
              "  </button>\n",
              "\n",
              "<style>\n",
              "  .colab-df-quickchart {\n",
              "      --bg-color: #E8F0FE;\n",
              "      --fill-color: #1967D2;\n",
              "      --hover-bg-color: #E2EBFA;\n",
              "      --hover-fill-color: #174EA6;\n",
              "      --disabled-fill-color: #AAA;\n",
              "      --disabled-bg-color: #DDD;\n",
              "  }\n",
              "\n",
              "  [theme=dark] .colab-df-quickchart {\n",
              "      --bg-color: #3B4455;\n",
              "      --fill-color: #D2E3FC;\n",
              "      --hover-bg-color: #434B5C;\n",
              "      --hover-fill-color: #FFFFFF;\n",
              "      --disabled-bg-color: #3B4455;\n",
              "      --disabled-fill-color: #666;\n",
              "  }\n",
              "\n",
              "  .colab-df-quickchart {\n",
              "    background-color: var(--bg-color);\n",
              "    border: none;\n",
              "    border-radius: 50%;\n",
              "    cursor: pointer;\n",
              "    display: none;\n",
              "    fill: var(--fill-color);\n",
              "    height: 32px;\n",
              "    padding: 0;\n",
              "    width: 32px;\n",
              "  }\n",
              "\n",
              "  .colab-df-quickchart:hover {\n",
              "    background-color: var(--hover-bg-color);\n",
              "    box-shadow: 0 1px 2px rgba(60, 64, 67, 0.3), 0 1px 3px 1px rgba(60, 64, 67, 0.15);\n",
              "    fill: var(--button-hover-fill-color);\n",
              "  }\n",
              "\n",
              "  .colab-df-quickchart-complete:disabled,\n",
              "  .colab-df-quickchart-complete:disabled:hover {\n",
              "    background-color: var(--disabled-bg-color);\n",
              "    fill: var(--disabled-fill-color);\n",
              "    box-shadow: none;\n",
              "  }\n",
              "\n",
              "  .colab-df-spinner {\n",
              "    border: 2px solid var(--fill-color);\n",
              "    border-color: transparent;\n",
              "    border-bottom-color: var(--fill-color);\n",
              "    animation:\n",
              "      spin 1s steps(1) infinite;\n",
              "  }\n",
              "\n",
              "  @keyframes spin {\n",
              "    0% {\n",
              "      border-color: transparent;\n",
              "      border-bottom-color: var(--fill-color);\n",
              "      border-left-color: var(--fill-color);\n",
              "    }\n",
              "    20% {\n",
              "      border-color: transparent;\n",
              "      border-left-color: var(--fill-color);\n",
              "      border-top-color: var(--fill-color);\n",
              "    }\n",
              "    30% {\n",
              "      border-color: transparent;\n",
              "      border-left-color: var(--fill-color);\n",
              "      border-top-color: var(--fill-color);\n",
              "      border-right-color: var(--fill-color);\n",
              "    }\n",
              "    40% {\n",
              "      border-color: transparent;\n",
              "      border-right-color: var(--fill-color);\n",
              "      border-top-color: var(--fill-color);\n",
              "    }\n",
              "    60% {\n",
              "      border-color: transparent;\n",
              "      border-right-color: var(--fill-color);\n",
              "    }\n",
              "    80% {\n",
              "      border-color: transparent;\n",
              "      border-right-color: var(--fill-color);\n",
              "      border-bottom-color: var(--fill-color);\n",
              "    }\n",
              "    90% {\n",
              "      border-color: transparent;\n",
              "      border-bottom-color: var(--fill-color);\n",
              "    }\n",
              "  }\n",
              "</style>\n",
              "\n",
              "  <script>\n",
              "    async function quickchart(key) {\n",
              "      const quickchartButtonEl =\n",
              "        document.querySelector('#' + key + ' button');\n",
              "      quickchartButtonEl.disabled = true;  // To prevent multiple clicks.\n",
              "      quickchartButtonEl.classList.add('colab-df-spinner');\n",
              "      try {\n",
              "        const charts = await google.colab.kernel.invokeFunction(\n",
              "            'suggestCharts', [key], {});\n",
              "      } catch (error) {\n",
              "        console.error('Error during call to suggestCharts:', error);\n",
              "      }\n",
              "      quickchartButtonEl.classList.remove('colab-df-spinner');\n",
              "      quickchartButtonEl.classList.add('colab-df-quickchart-complete');\n",
              "    }\n",
              "    (() => {\n",
              "      let quickchartButtonEl =\n",
              "        document.querySelector('#df-93ad5a59-e391-4940-b6d4-7b9cf897583d button');\n",
              "      quickchartButtonEl.style.display =\n",
              "        google.colab.kernel.accessAllowed ? 'block' : 'none';\n",
              "    })();\n",
              "  </script>\n",
              "</div>\n",
              "\n",
              "    </div>\n",
              "  </div>\n"
            ],
            "application/vnd.google.colaboratory.intrinsic+json": {
              "type": "dataframe",
              "variable_name": "df",
              "summary": "{\n  \"name\": \"df\",\n  \"rows\": 2000,\n  \"fields\": [\n    {\n      \"column\": \"product_name\",\n      \"properties\": {\n        \"dtype\": \"category\",\n        \"num_unique_values\": 20,\n        \"samples\": [\n          \"Camera\",\n          \"Toaster\",\n          \"Jacket\"\n        ],\n        \"semantic_type\": \"\",\n        \"description\": \"\"\n      }\n    },\n    {\n      \"column\": \"category\",\n      \"properties\": {\n        \"dtype\": \"category\",\n        \"num_unique_values\": 4,\n        \"samples\": [\n          \"Books\",\n          \"Home & Kitchen\",\n          \"Electronics\"\n        ],\n        \"semantic_type\": \"\",\n        \"description\": \"\"\n      }\n    },\n    {\n      \"column\": \"description\",\n      \"properties\": {\n        \"dtype\": \"category\",\n        \"num_unique_values\": 20,\n        \"samples\": [\n          \"A digital camera with high resolution and optical zoom.\",\n          \"A compact toaster with adjustable browning settings.\",\n          \"A warm jacket perfect for cold weather.\"\n        ],\n        \"semantic_type\": \"\",\n        \"description\": \"\"\n      }\n    },\n    {\n      \"column\": \"rating\",\n      \"properties\": {\n        \"dtype\": \"number\",\n        \"std\": 0.714679705211027,\n        \"min\": 2.7,\n        \"max\": 5.0,\n        \"num_unique_values\": 10,\n        \"samples\": [\n          3.8,\n          4.5,\n          4.4\n        ],\n        \"semantic_type\": \"\",\n        \"description\": \"\"\n      }\n    },\n    {\n      \"column\": \"price\",\n      \"properties\": {\n        \"dtype\": \"number\",\n        \"std\": 290.9138920074554,\n        \"min\": 10.100000000000001,\n        \"max\": 1204.76,\n        \"num_unique_values\": 1832,\n        \"samples\": [\n          26.11,\n          202.83,\n          25.75\n        ],\n        \"semantic_type\": \"\",\n        \"description\": \"\"\n      }\n    },\n    {\n      \"column\": \"recommendation\",\n      \"properties\": {\n        \"dtype\": \"number\",\n        \"std\": 0,\n        \"min\": 0,\n        \"max\": 1,\n        \"num_unique_values\": 2,\n        \"samples\": [\n          0,\n          1\n        ],\n        \"semantic_type\": \"\",\n        \"description\": \"\"\n      }\n    },\n    {\n      \"column\": \"combined_features\",\n      \"properties\": {\n        \"dtype\": \"string\",\n        \"num_unique_values\": 1987,\n        \"samples\": [\n          \"This Camera from the Electronics category is A digital camera with high resolution and optical zoom. Product rating is 3.5. The price of this product is 497.25 USD.\",\n          \"This Non-Fiction Book from the Books category is An informative non-fiction book on the history of technology. Product rating is 3.5. The price of this product is 23.9 USD.\"\n        ],\n        \"semantic_type\": \"\",\n        \"description\": \"\"\n      }\n    }\n  ]\n}"
            }
          },
          "metadata": {},
          "execution_count": 100
        }
      ]
    },
    {
      "cell_type": "code",
      "source": [
        "df.loc[0, 'combined_features']"
      ],
      "metadata": {
        "colab": {
          "base_uri": "https://localhost:8080/",
          "height": 54
        },
        "id": "whyyBPQw3DBx",
        "outputId": "113b9fa7-94cb-453b-8a60-76df185addec"
      },
      "execution_count": 101,
      "outputs": [
        {
          "output_type": "execute_result",
          "data": {
            "text/plain": [
              "'This Camera from the Electronics category is A digital camera with high resolution and optical zoom. Product rating is 5.0. The price of this product is 497.7 USD.'"
            ],
            "application/vnd.google.colaboratory.intrinsic+json": {
              "type": "string"
            }
          },
          "metadata": {},
          "execution_count": 101
        }
      ]
    },
    {
      "cell_type": "markdown",
      "source": [
        "# Data Spliting"
      ],
      "metadata": {
        "id": "mnw40EwPJbTq"
      }
    },
    {
      "cell_type": "code",
      "source": [
        "x_train, x_temp, y_train, y_temp = train_test_split(df['combined_features'], df['recommendation'], test_size=0.3,\n",
        "                                                  random_state=11, stratify=df['recommendation'])"
      ],
      "metadata": {
        "id": "ZiWMg_A93KMc"
      },
      "execution_count": 105,
      "outputs": []
    },
    {
      "cell_type": "code",
      "source": [
        "x_val, x_test, y_val, y_test = train_test_split(x_temp, y_temp, test_size=0.5, random_state=11)"
      ],
      "metadata": {
        "id": "th0WEsYq6Zdl"
      },
      "execution_count": 106,
      "outputs": []
    },
    {
      "cell_type": "code",
      "source": [
        "print(f\"Train shape: {x_train.shape}\")\n",
        "print(f\"Validation shape: {x_val.shape}\")\n",
        "print(f\"Test shape: {x_test.shape}\")"
      ],
      "metadata": {
        "colab": {
          "base_uri": "https://localhost:8080/"
        },
        "id": "LrpKW2lz6sxR",
        "outputId": "1202ecd6-6109-4f1d-bc33-d11dd48cfde6"
      },
      "execution_count": 107,
      "outputs": [
        {
          "output_type": "stream",
          "name": "stdout",
          "text": [
            "Train shape: (1400,)\n",
            "Validation shape: (300,)\n",
            "Test shape: (300,)\n"
          ]
        }
      ]
    },
    {
      "cell_type": "markdown",
      "source": [
        "# Custom Data generator and tokenization"
      ],
      "metadata": {
        "id": "0iSK1nr-OA6T"
      }
    },
    {
      "cell_type": "markdown",
      "source": [
        "A data generator class is defined to load the data and tokenize them in an efficient manner"
      ],
      "metadata": {
        "id": "TVws_8tBJowI"
      }
    },
    {
      "cell_type": "code",
      "source": [
        "# Data generator class\n",
        "\n",
        "class DataGen(tf.keras.utils.Sequence):\n",
        "    def __init__(self, x_data, y_data, batch_size, max_len, tokenizer):\n",
        "        self.x_data = x_data\n",
        "        self.y_data = y_data\n",
        "        self.batch_size = batch_size\n",
        "        self.max_len = max_len\n",
        "        self.tokenizer = tokenizer\n",
        "        self.indices = np.arange(len(self.x_data))\n",
        "        # self.on_epoch_end()\n",
        "\n",
        "    def __len__(self):\n",
        "        return len(self.x_data) // self.batch_size\n",
        "\n",
        "    def __getitem__(self, index):\n",
        "        batch_indices = self.indices[index * self.batch_size: (index + 1) * self.batch_size]\n",
        "        x_batch = self.x_data[batch_indices]\n",
        "        y_batch = self.y_data[batch_indices]\n",
        "        x_tokenized = self.tokenizer.texts_to_sequences(x_batch)\n",
        "        x_padded = pad_sequences(x_tokenized, maxlen= self.max_len, padding='post')\n",
        "\n",
        "        return x_padded, y_batch"
      ],
      "metadata": {
        "id": "vEsNDW2MEKL_"
      },
      "execution_count": 108,
      "outputs": []
    },
    {
      "cell_type": "markdown",
      "source": [
        "As our dataset is small so the vocabulary is also small. So, max words and max sequence length are kept small.\n",
        "\n",
        "max_words = 200\n",
        "max_sequence_length = 120"
      ],
      "metadata": {
        "id": "N9KUepN3Jwji"
      }
    },
    {
      "cell_type": "code",
      "source": [
        "# create the tokenizer\n",
        "\n",
        "max_words = 200\n",
        "tokenizer = Tokenizer(num_words=max_words, oov_token=\"<OOV>\")\n",
        "tokenizer.fit_on_texts(x_train)"
      ],
      "metadata": {
        "id": "bmfU2y33QhqS"
      },
      "execution_count": 109,
      "outputs": []
    },
    {
      "cell_type": "code",
      "source": [
        "max_sequence_length = 120\n",
        "batch_size = 32"
      ],
      "metadata": {
        "id": "HoEWwnCcU6t8"
      },
      "execution_count": 110,
      "outputs": []
    },
    {
      "cell_type": "code",
      "source": [
        "train_ds = DataGen(np.array(x_train), np.array(y_train), batch_size, max_sequence_length, tokenizer)\n",
        "val_ds = DataGen(np.array(x_val), np.array(y_val), batch_size, max_sequence_length, tokenizer)\n",
        "test_ds = DataGen(np.array(x_test), np.array(y_test), batch_size, max_sequence_length, tokenizer)"
      ],
      "metadata": {
        "id": "rKwdwXlSVDa8"
      },
      "execution_count": 111,
      "outputs": []
    },
    {
      "cell_type": "markdown",
      "source": [
        "# Training with tensorflow framework"
      ],
      "metadata": {
        "id": "UVrg3igmKSQ9"
      }
    },
    {
      "cell_type": "code",
      "source": [
        "embedding_dim = 16\n",
        "epochs = 100"
      ],
      "metadata": {
        "id": "U6AfyWjTVkZY"
      },
      "execution_count": 155,
      "outputs": []
    },
    {
      "cell_type": "code",
      "source": [
        "model = tf.keras.Sequential([\n",
        "  layers.Embedding(max_words, embedding_dim, input_length=max_sequence_length),\n",
        "#   layers.Dropout(0.2),\n",
        "  layers.GlobalAveragePooling1D(),\n",
        "#   layers.Dropout(0.2),\n",
        "  layers.Dense(16, activation='relu'),\n",
        "  layers.Dropout(0.2),\n",
        "  layers.Dense(8, activation='relu'),\n",
        "  layers.Dense(1, activation='sigmoid')])\n",
        "\n",
        "model.summary()\n"
      ],
      "metadata": {
        "colab": {
          "base_uri": "https://localhost:8080/"
        },
        "id": "o7YyR66TVsQg",
        "outputId": "ee2f5817-d287-47a7-c73b-a5d9cf2143e4"
      },
      "execution_count": 126,
      "outputs": [
        {
          "output_type": "stream",
          "name": "stdout",
          "text": [
            "Model: \"sequential_10\"\n",
            "_________________________________________________________________\n",
            " Layer (type)                Output Shape              Param #   \n",
            "=================================================================\n",
            " embedding_10 (Embedding)    (None, 120, 16)           3200      \n",
            "                                                                 \n",
            " global_average_pooling1d_1  (None, 16)                0         \n",
            " 0 (GlobalAveragePooling1D)                                      \n",
            "                                                                 \n",
            " dense_26 (Dense)            (None, 16)                272       \n",
            "                                                                 \n",
            " dropout_6 (Dropout)         (None, 16)                0         \n",
            "                                                                 \n",
            " dense_27 (Dense)            (None, 8)                 136       \n",
            "                                                                 \n",
            " dense_28 (Dense)            (None, 1)                 9         \n",
            "                                                                 \n",
            "=================================================================\n",
            "Total params: 3617 (14.13 KB)\n",
            "Trainable params: 3617 (14.13 KB)\n",
            "Non-trainable params: 0 (0.00 Byte)\n",
            "_________________________________________________________________\n"
          ]
        }
      ]
    },
    {
      "cell_type": "markdown",
      "source": [
        "Not a big model, only has **3617** parameters"
      ],
      "metadata": {
        "id": "gRA6q1ocKYAg"
      }
    },
    {
      "cell_type": "code",
      "source": [
        "model.compile(loss=losses.BinaryCrossentropy(),\n",
        "              optimizer='adam',\n",
        "              metrics=['accuracy'])\n"
      ],
      "metadata": {
        "id": "SKXo0E5ZWeYG"
      },
      "execution_count": 127,
      "outputs": []
    },
    {
      "cell_type": "markdown",
      "source": [
        "Training for **100** **epochs**"
      ],
      "metadata": {
        "id": "I8zMIOVGKlZA"
      }
    },
    {
      "cell_type": "code",
      "source": [
        "history = model.fit(\n",
        "    train_ds,\n",
        "    validation_data=val_ds,\n",
        "    epochs=epochs)\n"
      ],
      "metadata": {
        "colab": {
          "base_uri": "https://localhost:8080/"
        },
        "id": "TW-OJ-KcWweE",
        "outputId": "407efc7b-c5d5-4970-cb94-8e1e23d56c22"
      },
      "execution_count": 128,
      "outputs": [
        {
          "output_type": "stream",
          "name": "stdout",
          "text": [
            "Epoch 1/100\n",
            "43/43 [==============================] - 1s 9ms/step - loss: 0.6705 - accuracy: 0.7326 - val_loss: 0.6439 - val_accuracy: 0.7431\n",
            "Epoch 2/100\n",
            "43/43 [==============================] - 0s 5ms/step - loss: 0.6130 - accuracy: 0.7391 - val_loss: 0.5791 - val_accuracy: 0.7431\n",
            "Epoch 3/100\n",
            "43/43 [==============================] - 0s 5ms/step - loss: 0.5778 - accuracy: 0.7391 - val_loss: 0.5672 - val_accuracy: 0.7431\n",
            "Epoch 4/100\n",
            "43/43 [==============================] - 0s 5ms/step - loss: 0.5794 - accuracy: 0.7391 - val_loss: 0.5668 - val_accuracy: 0.7431\n",
            "Epoch 5/100\n",
            "43/43 [==============================] - 0s 6ms/step - loss: 0.5683 - accuracy: 0.7391 - val_loss: 0.5647 - val_accuracy: 0.7431\n",
            "Epoch 6/100\n",
            "43/43 [==============================] - 0s 5ms/step - loss: 0.5673 - accuracy: 0.7391 - val_loss: 0.5632 - val_accuracy: 0.7431\n",
            "Epoch 7/100\n",
            "43/43 [==============================] - 0s 5ms/step - loss: 0.5680 - accuracy: 0.7391 - val_loss: 0.5615 - val_accuracy: 0.7431\n",
            "Epoch 8/100\n",
            "43/43 [==============================] - 0s 5ms/step - loss: 0.5666 - accuracy: 0.7391 - val_loss: 0.5597 - val_accuracy: 0.7431\n",
            "Epoch 9/100\n",
            "43/43 [==============================] - 0s 5ms/step - loss: 0.5603 - accuracy: 0.7391 - val_loss: 0.5565 - val_accuracy: 0.7431\n",
            "Epoch 10/100\n",
            "43/43 [==============================] - 0s 5ms/step - loss: 0.5551 - accuracy: 0.7391 - val_loss: 0.5532 - val_accuracy: 0.7431\n",
            "Epoch 11/100\n",
            "43/43 [==============================] - 0s 5ms/step - loss: 0.5514 - accuracy: 0.7391 - val_loss: 0.5475 - val_accuracy: 0.7431\n",
            "Epoch 12/100\n",
            "43/43 [==============================] - 0s 5ms/step - loss: 0.5476 - accuracy: 0.7391 - val_loss: 0.5418 - val_accuracy: 0.7431\n",
            "Epoch 13/100\n",
            "43/43 [==============================] - 0s 5ms/step - loss: 0.5322 - accuracy: 0.7391 - val_loss: 0.5323 - val_accuracy: 0.7431\n",
            "Epoch 14/100\n",
            "43/43 [==============================] - 0s 5ms/step - loss: 0.5241 - accuracy: 0.7391 - val_loss: 0.5200 - val_accuracy: 0.7431\n",
            "Epoch 15/100\n",
            "43/43 [==============================] - 0s 5ms/step - loss: 0.5013 - accuracy: 0.7391 - val_loss: 0.5031 - val_accuracy: 0.7431\n",
            "Epoch 16/100\n",
            "43/43 [==============================] - 0s 6ms/step - loss: 0.4744 - accuracy: 0.7398 - val_loss: 0.4777 - val_accuracy: 0.7396\n",
            "Epoch 17/100\n",
            "43/43 [==============================] - 0s 5ms/step - loss: 0.4433 - accuracy: 0.7638 - val_loss: 0.4493 - val_accuracy: 0.7569\n",
            "Epoch 18/100\n",
            "43/43 [==============================] - 0s 6ms/step - loss: 0.4145 - accuracy: 0.7856 - val_loss: 0.4261 - val_accuracy: 0.7535\n",
            "Epoch 19/100\n",
            "43/43 [==============================] - 0s 6ms/step - loss: 0.3840 - accuracy: 0.8009 - val_loss: 0.4147 - val_accuracy: 0.7604\n",
            "Epoch 20/100\n",
            "43/43 [==============================] - 0s 6ms/step - loss: 0.3707 - accuracy: 0.7972 - val_loss: 0.4100 - val_accuracy: 0.7569\n",
            "Epoch 21/100\n",
            "43/43 [==============================] - 0s 5ms/step - loss: 0.3588 - accuracy: 0.8074 - val_loss: 0.3909 - val_accuracy: 0.7535\n",
            "Epoch 22/100\n",
            "43/43 [==============================] - 0s 5ms/step - loss: 0.3456 - accuracy: 0.8140 - val_loss: 0.3822 - val_accuracy: 0.7778\n",
            "Epoch 23/100\n",
            "43/43 [==============================] - 0s 6ms/step - loss: 0.3369 - accuracy: 0.8198 - val_loss: 0.3760 - val_accuracy: 0.7812\n",
            "Epoch 24/100\n",
            "43/43 [==============================] - 0s 5ms/step - loss: 0.3368 - accuracy: 0.8234 - val_loss: 0.3750 - val_accuracy: 0.7708\n",
            "Epoch 25/100\n",
            "43/43 [==============================] - 0s 5ms/step - loss: 0.3215 - accuracy: 0.8328 - val_loss: 0.3701 - val_accuracy: 0.7812\n",
            "Epoch 26/100\n",
            "43/43 [==============================] - 0s 6ms/step - loss: 0.3242 - accuracy: 0.8241 - val_loss: 0.3648 - val_accuracy: 0.7847\n",
            "Epoch 27/100\n",
            "43/43 [==============================] - 0s 6ms/step - loss: 0.3150 - accuracy: 0.8416 - val_loss: 0.3599 - val_accuracy: 0.7847\n",
            "Epoch 28/100\n",
            "43/43 [==============================] - 0s 6ms/step - loss: 0.3164 - accuracy: 0.8343 - val_loss: 0.3554 - val_accuracy: 0.7882\n",
            "Epoch 29/100\n",
            "43/43 [==============================] - 0s 6ms/step - loss: 0.3084 - accuracy: 0.8372 - val_loss: 0.3576 - val_accuracy: 0.7917\n",
            "Epoch 30/100\n",
            "43/43 [==============================] - 0s 6ms/step - loss: 0.3052 - accuracy: 0.8365 - val_loss: 0.3541 - val_accuracy: 0.7986\n",
            "Epoch 31/100\n",
            "43/43 [==============================] - 0s 6ms/step - loss: 0.3061 - accuracy: 0.8416 - val_loss: 0.3537 - val_accuracy: 0.7882\n",
            "Epoch 32/100\n",
            "43/43 [==============================] - 0s 7ms/step - loss: 0.3121 - accuracy: 0.8379 - val_loss: 0.3565 - val_accuracy: 0.7882\n",
            "Epoch 33/100\n",
            "43/43 [==============================] - 0s 11ms/step - loss: 0.3014 - accuracy: 0.8430 - val_loss: 0.3651 - val_accuracy: 0.7812\n",
            "Epoch 34/100\n",
            "43/43 [==============================] - 0s 9ms/step - loss: 0.3055 - accuracy: 0.8292 - val_loss: 0.3487 - val_accuracy: 0.7986\n",
            "Epoch 35/100\n",
            "43/43 [==============================] - 0s 9ms/step - loss: 0.3015 - accuracy: 0.8336 - val_loss: 0.3526 - val_accuracy: 0.7951\n",
            "Epoch 36/100\n",
            "43/43 [==============================] - 0s 8ms/step - loss: 0.2998 - accuracy: 0.8408 - val_loss: 0.3521 - val_accuracy: 0.7951\n",
            "Epoch 37/100\n",
            "43/43 [==============================] - 0s 5ms/step - loss: 0.2972 - accuracy: 0.8438 - val_loss: 0.3450 - val_accuracy: 0.8160\n",
            "Epoch 38/100\n",
            "43/43 [==============================] - 0s 6ms/step - loss: 0.2951 - accuracy: 0.8438 - val_loss: 0.3449 - val_accuracy: 0.8090\n",
            "Epoch 39/100\n",
            "43/43 [==============================] - 0s 5ms/step - loss: 0.2938 - accuracy: 0.8467 - val_loss: 0.3446 - val_accuracy: 0.8229\n",
            "Epoch 40/100\n",
            "43/43 [==============================] - 0s 7ms/step - loss: 0.2971 - accuracy: 0.8467 - val_loss: 0.3442 - val_accuracy: 0.8090\n",
            "Epoch 41/100\n",
            "43/43 [==============================] - 0s 6ms/step - loss: 0.2912 - accuracy: 0.8481 - val_loss: 0.3525 - val_accuracy: 0.7986\n",
            "Epoch 42/100\n",
            "43/43 [==============================] - 0s 7ms/step - loss: 0.2919 - accuracy: 0.8474 - val_loss: 0.3438 - val_accuracy: 0.8125\n",
            "Epoch 43/100\n",
            "43/43 [==============================] - 0s 5ms/step - loss: 0.2929 - accuracy: 0.8488 - val_loss: 0.3408 - val_accuracy: 0.8264\n",
            "Epoch 44/100\n",
            "43/43 [==============================] - 0s 6ms/step - loss: 0.2889 - accuracy: 0.8525 - val_loss: 0.3492 - val_accuracy: 0.7951\n",
            "Epoch 45/100\n",
            "43/43 [==============================] - 0s 6ms/step - loss: 0.2880 - accuracy: 0.8503 - val_loss: 0.3483 - val_accuracy: 0.7986\n",
            "Epoch 46/100\n",
            "43/43 [==============================] - 0s 6ms/step - loss: 0.2865 - accuracy: 0.8532 - val_loss: 0.3430 - val_accuracy: 0.8090\n",
            "Epoch 47/100\n",
            "43/43 [==============================] - 0s 5ms/step - loss: 0.2907 - accuracy: 0.8488 - val_loss: 0.3423 - val_accuracy: 0.8160\n",
            "Epoch 48/100\n",
            "43/43 [==============================] - 0s 6ms/step - loss: 0.2927 - accuracy: 0.8481 - val_loss: 0.3446 - val_accuracy: 0.8194\n",
            "Epoch 49/100\n",
            "43/43 [==============================] - 0s 5ms/step - loss: 0.2873 - accuracy: 0.8416 - val_loss: 0.3401 - val_accuracy: 0.8299\n",
            "Epoch 50/100\n",
            "43/43 [==============================] - 0s 5ms/step - loss: 0.2839 - accuracy: 0.8438 - val_loss: 0.3414 - val_accuracy: 0.8229\n",
            "Epoch 51/100\n",
            "43/43 [==============================] - 1s 13ms/step - loss: 0.2857 - accuracy: 0.8416 - val_loss: 0.3440 - val_accuracy: 0.8194\n",
            "Epoch 52/100\n",
            "43/43 [==============================] - 0s 5ms/step - loss: 0.2811 - accuracy: 0.8481 - val_loss: 0.3396 - val_accuracy: 0.8264\n",
            "Epoch 53/100\n",
            "43/43 [==============================] - 0s 6ms/step - loss: 0.2815 - accuracy: 0.8532 - val_loss: 0.3428 - val_accuracy: 0.8194\n",
            "Epoch 54/100\n",
            "43/43 [==============================] - 0s 6ms/step - loss: 0.2782 - accuracy: 0.8467 - val_loss: 0.3424 - val_accuracy: 0.8264\n",
            "Epoch 55/100\n",
            "43/43 [==============================] - 0s 5ms/step - loss: 0.2869 - accuracy: 0.8372 - val_loss: 0.3451 - val_accuracy: 0.8125\n",
            "Epoch 56/100\n",
            "43/43 [==============================] - 0s 5ms/step - loss: 0.2784 - accuracy: 0.8532 - val_loss: 0.3429 - val_accuracy: 0.8229\n",
            "Epoch 57/100\n",
            "43/43 [==============================] - 0s 6ms/step - loss: 0.2785 - accuracy: 0.8503 - val_loss: 0.3433 - val_accuracy: 0.8229\n",
            "Epoch 58/100\n",
            "43/43 [==============================] - 0s 6ms/step - loss: 0.2773 - accuracy: 0.8539 - val_loss: 0.3437 - val_accuracy: 0.8299\n",
            "Epoch 59/100\n",
            "43/43 [==============================] - 0s 6ms/step - loss: 0.2752 - accuracy: 0.8517 - val_loss: 0.3522 - val_accuracy: 0.8056\n",
            "Epoch 60/100\n",
            "43/43 [==============================] - 0s 5ms/step - loss: 0.2720 - accuracy: 0.8590 - val_loss: 0.3619 - val_accuracy: 0.8021\n",
            "Epoch 61/100\n",
            "43/43 [==============================] - 0s 5ms/step - loss: 0.2753 - accuracy: 0.8525 - val_loss: 0.3497 - val_accuracy: 0.8125\n",
            "Epoch 62/100\n",
            "43/43 [==============================] - 0s 5ms/step - loss: 0.2759 - accuracy: 0.8532 - val_loss: 0.3441 - val_accuracy: 0.8194\n",
            "Epoch 63/100\n",
            "43/43 [==============================] - 0s 5ms/step - loss: 0.2735 - accuracy: 0.8576 - val_loss: 0.3455 - val_accuracy: 0.8194\n",
            "Epoch 64/100\n",
            "43/43 [==============================] - 0s 5ms/step - loss: 0.2697 - accuracy: 0.8568 - val_loss: 0.3457 - val_accuracy: 0.8229\n",
            "Epoch 65/100\n",
            "43/43 [==============================] - 0s 5ms/step - loss: 0.2692 - accuracy: 0.8532 - val_loss: 0.3536 - val_accuracy: 0.8125\n",
            "Epoch 66/100\n",
            "43/43 [==============================] - 0s 5ms/step - loss: 0.2718 - accuracy: 0.8583 - val_loss: 0.3622 - val_accuracy: 0.8021\n",
            "Epoch 67/100\n",
            "43/43 [==============================] - 0s 6ms/step - loss: 0.2690 - accuracy: 0.8605 - val_loss: 0.3673 - val_accuracy: 0.8021\n",
            "Epoch 68/100\n",
            "43/43 [==============================] - 0s 5ms/step - loss: 0.2712 - accuracy: 0.8539 - val_loss: 0.3536 - val_accuracy: 0.8160\n",
            "Epoch 69/100\n",
            "43/43 [==============================] - 0s 5ms/step - loss: 0.2673 - accuracy: 0.8532 - val_loss: 0.3497 - val_accuracy: 0.8194\n",
            "Epoch 70/100\n",
            "43/43 [==============================] - 0s 5ms/step - loss: 0.2656 - accuracy: 0.8605 - val_loss: 0.3507 - val_accuracy: 0.8125\n",
            "Epoch 71/100\n",
            "43/43 [==============================] - 0s 6ms/step - loss: 0.2631 - accuracy: 0.8576 - val_loss: 0.3620 - val_accuracy: 0.8056\n",
            "Epoch 72/100\n",
            "43/43 [==============================] - 0s 8ms/step - loss: 0.2639 - accuracy: 0.8626 - val_loss: 0.3494 - val_accuracy: 0.8229\n",
            "Epoch 73/100\n",
            "43/43 [==============================] - 0s 8ms/step - loss: 0.2646 - accuracy: 0.8561 - val_loss: 0.3501 - val_accuracy: 0.8264\n",
            "Epoch 74/100\n",
            "43/43 [==============================] - 0s 9ms/step - loss: 0.2623 - accuracy: 0.8619 - val_loss: 0.3591 - val_accuracy: 0.7986\n",
            "Epoch 75/100\n",
            "43/43 [==============================] - 0s 9ms/step - loss: 0.2577 - accuracy: 0.8634 - val_loss: 0.3960 - val_accuracy: 0.7986\n",
            "Epoch 76/100\n",
            "43/43 [==============================] - 0s 6ms/step - loss: 0.2625 - accuracy: 0.8619 - val_loss: 0.3546 - val_accuracy: 0.8021\n",
            "Epoch 77/100\n",
            "43/43 [==============================] - 0s 6ms/step - loss: 0.2608 - accuracy: 0.8597 - val_loss: 0.3562 - val_accuracy: 0.8056\n",
            "Epoch 78/100\n",
            "43/43 [==============================] - 0s 6ms/step - loss: 0.2565 - accuracy: 0.8692 - val_loss: 0.3612 - val_accuracy: 0.8125\n",
            "Epoch 79/100\n",
            "43/43 [==============================] - 0s 6ms/step - loss: 0.2587 - accuracy: 0.8692 - val_loss: 0.3704 - val_accuracy: 0.8090\n",
            "Epoch 80/100\n",
            "43/43 [==============================] - 0s 5ms/step - loss: 0.2552 - accuracy: 0.8648 - val_loss: 0.3501 - val_accuracy: 0.8090\n",
            "Epoch 81/100\n",
            "43/43 [==============================] - 0s 11ms/step - loss: 0.2527 - accuracy: 0.8605 - val_loss: 0.3836 - val_accuracy: 0.7986\n",
            "Epoch 82/100\n",
            "43/43 [==============================] - 0s 6ms/step - loss: 0.2574 - accuracy: 0.8576 - val_loss: 0.3832 - val_accuracy: 0.7986\n",
            "Epoch 83/100\n",
            "43/43 [==============================] - 0s 5ms/step - loss: 0.2488 - accuracy: 0.8561 - val_loss: 0.3727 - val_accuracy: 0.7986\n",
            "Epoch 84/100\n",
            "43/43 [==============================] - 0s 8ms/step - loss: 0.2483 - accuracy: 0.8583 - val_loss: 0.3545 - val_accuracy: 0.8229\n",
            "Epoch 85/100\n",
            "43/43 [==============================] - 0s 5ms/step - loss: 0.2461 - accuracy: 0.8626 - val_loss: 0.3566 - val_accuracy: 0.8090\n",
            "Epoch 86/100\n",
            "43/43 [==============================] - 0s 6ms/step - loss: 0.2482 - accuracy: 0.8656 - val_loss: 0.3566 - val_accuracy: 0.8125\n",
            "Epoch 87/100\n",
            "43/43 [==============================] - 0s 5ms/step - loss: 0.2428 - accuracy: 0.8685 - val_loss: 0.3971 - val_accuracy: 0.7986\n",
            "Epoch 88/100\n",
            "43/43 [==============================] - 0s 5ms/step - loss: 0.2465 - accuracy: 0.8583 - val_loss: 0.3586 - val_accuracy: 0.8125\n",
            "Epoch 89/100\n",
            "43/43 [==============================] - 0s 6ms/step - loss: 0.2398 - accuracy: 0.8641 - val_loss: 0.3763 - val_accuracy: 0.8090\n",
            "Epoch 90/100\n",
            "43/43 [==============================] - 0s 5ms/step - loss: 0.2399 - accuracy: 0.8670 - val_loss: 0.3595 - val_accuracy: 0.8125\n",
            "Epoch 91/100\n",
            "43/43 [==============================] - 0s 5ms/step - loss: 0.2362 - accuracy: 0.8648 - val_loss: 0.3685 - val_accuracy: 0.8090\n",
            "Epoch 92/100\n",
            "43/43 [==============================] - 0s 9ms/step - loss: 0.2370 - accuracy: 0.8677 - val_loss: 0.3805 - val_accuracy: 0.8056\n",
            "Epoch 93/100\n",
            "43/43 [==============================] - 0s 7ms/step - loss: 0.2357 - accuracy: 0.8634 - val_loss: 0.3714 - val_accuracy: 0.8056\n",
            "Epoch 94/100\n",
            "43/43 [==============================] - 0s 6ms/step - loss: 0.2345 - accuracy: 0.8685 - val_loss: 0.3604 - val_accuracy: 0.8090\n",
            "Epoch 95/100\n",
            "43/43 [==============================] - 0s 8ms/step - loss: 0.2339 - accuracy: 0.8641 - val_loss: 0.3926 - val_accuracy: 0.8021\n",
            "Epoch 96/100\n",
            "43/43 [==============================] - 0s 5ms/step - loss: 0.2349 - accuracy: 0.8670 - val_loss: 0.3631 - val_accuracy: 0.8160\n",
            "Epoch 97/100\n",
            "43/43 [==============================] - 0s 6ms/step - loss: 0.2306 - accuracy: 0.8648 - val_loss: 0.3702 - val_accuracy: 0.8125\n",
            "Epoch 98/100\n",
            "43/43 [==============================] - 1s 12ms/step - loss: 0.2298 - accuracy: 0.8626 - val_loss: 0.4378 - val_accuracy: 0.7951\n",
            "Epoch 99/100\n",
            "43/43 [==============================] - 0s 6ms/step - loss: 0.2338 - accuracy: 0.8626 - val_loss: 0.4135 - val_accuracy: 0.7986\n",
            "Epoch 100/100\n",
            "43/43 [==============================] - 0s 6ms/step - loss: 0.2294 - accuracy: 0.8605 - val_loss: 0.3848 - val_accuracy: 0.8056\n"
          ]
        }
      ]
    },
    {
      "cell_type": "markdown",
      "source": [
        "The model clearly overfits. Which is not very surprising. As the dataset is quite small (only 2000 observations) and only used a pretty basic classification model to train on the data. But still gave quite a good result.\n",
        "\n",
        "Please, refer to the Loss and Accuracy plot to visualize the behavior"
      ],
      "metadata": {
        "id": "RK0H97bBK73t"
      }
    },
    {
      "cell_type": "code",
      "source": [
        "loss, accuracy = model.evaluate(test_ds)\n",
        "\n",
        "print(\"Loss: \", loss)\n",
        "print(\"Accuracy: \", accuracy)\n"
      ],
      "metadata": {
        "colab": {
          "base_uri": "https://localhost:8080/"
        },
        "id": "i-4sq0X5nzef",
        "outputId": "47369385-da6e-4138-887c-a12f4da771f8"
      },
      "execution_count": 129,
      "outputs": [
        {
          "output_type": "stream",
          "name": "stdout",
          "text": [
            "9/9 [==============================] - 0s 3ms/step - loss: 0.3816 - accuracy: 0.8056\n",
            "Loss:  0.3815709948539734\n",
            "Accuracy:  0.8055555820465088\n"
          ]
        }
      ]
    },
    {
      "cell_type": "code",
      "source": [
        "import matplotlib.pyplot as plt"
      ],
      "metadata": {
        "id": "k9EVGyAF3076"
      },
      "execution_count": 130,
      "outputs": []
    },
    {
      "cell_type": "code",
      "source": [
        "history_dict = history.history\n",
        "history_dict.keys()"
      ],
      "metadata": {
        "colab": {
          "base_uri": "https://localhost:8080/"
        },
        "id": "xBWkfmLn3tB7",
        "outputId": "d98df454-e952-4346-ad25-15e2e13be4fd"
      },
      "execution_count": 131,
      "outputs": [
        {
          "output_type": "execute_result",
          "data": {
            "text/plain": [
              "dict_keys(['loss', 'accuracy', 'val_loss', 'val_accuracy'])"
            ]
          },
          "metadata": {},
          "execution_count": 131
        }
      ]
    },
    {
      "cell_type": "code",
      "source": [
        "acc = history_dict['accuracy']\n",
        "val_acc = history_dict['val_accuracy']\n",
        "loss = history_dict['loss']\n",
        "val_loss = history_dict['val_loss']\n",
        "\n",
        "eps = range(1, len(acc) + 1)\n",
        "\n",
        "# \"bo\" is for \"blue dot\"\n",
        "plt.plot(eps, loss, 'bo', label='Training loss')\n",
        "# b is for \"solid blue line\"\n",
        "plt.plot(eps, val_loss, 'b', label='Validation loss')\n",
        "plt.title('Training and validation loss')\n",
        "plt.xlabel('Epochs')\n",
        "plt.ylabel('Loss')\n",
        "plt.legend()\n",
        "\n",
        "plt.show()\n"
      ],
      "metadata": {
        "colab": {
          "base_uri": "https://localhost:8080/",
          "height": 472
        },
        "id": "2WOHR_8F3wGj",
        "outputId": "a908ed02-7eba-44ed-f2b1-22606c886840"
      },
      "execution_count": 150,
      "outputs": [
        {
          "output_type": "display_data",
          "data": {
            "text/plain": [
              "<Figure size 640x480 with 1 Axes>"
            ],
            "image/png": "[encoded data removed]"
          },
          "metadata": {}
        }
      ]
    },
    {
      "cell_type": "code",
      "source": [
        "plt.plot(eps, acc, 'bo', label='Training acc')\n",
        "plt.plot(eps, val_acc, 'b', label='Validation acc')\n",
        "plt.title('Training and validation accuracy')\n",
        "plt.xlabel('Epochs')\n",
        "plt.ylabel('Accuracy')\n",
        "plt.legend(loc='lower right')\n",
        "\n",
        "plt.show()\n"
      ],
      "metadata": {
        "colab": {
          "base_uri": "https://localhost:8080/",
          "height": 472
        },
        "id": "X7m7WAYH4xaz",
        "outputId": "5b07bdc3-3c9d-4a40-88e0-25fc199955be"
      },
      "execution_count": 151,
      "outputs": [
        {
          "output_type": "display_data",
          "data": {
            "text/plain": [
              "<Figure size 640x480 with 1 Axes>"
            ],
            "image/png": "[encoded data removed]"
          },
          "metadata": {}
        }
      ]
    },
    {
      "cell_type": "markdown",
      "source": [
        "# Applying early stopping"
      ],
      "metadata": {
        "id": "hqgbYjNj2eYP"
      }
    },
    {
      "cell_type": "markdown",
      "source": [
        "As our previous model ran for 100 epochs with this small dataset, why don't we use early stopping to stop the train process early and also get a decent result. As not much is happening with the initial model and the accuracy stopped at ~80%. That was the intuition for me to use early stopping to see if it can get me a decent enough result and it did, actually"
      ],
      "metadata": {
        "id": "Elm5R9CVLc6-"
      }
    },
    {
      "cell_type": "code",
      "source": [
        "# same model with early stopping\n",
        "\n",
        "model_1 = tf.keras.Sequential([\n",
        "  layers.Embedding(max_words, embedding_dim, input_length=max_sequence_length),\n",
        "#   layers.Dropout(0.2),\n",
        "  layers.GlobalAveragePooling1D(),\n",
        "#   layers.Dropout(0.2),\n",
        "  layers.Dense(16, activation='relu'),\n",
        "  layers.Dropout(0.2),\n",
        "  layers.Dense(8, activation='relu'),\n",
        "  layers.Dense(1, activation='sigmoid')])\n",
        "\n",
        "model_1.summary()"
      ],
      "metadata": {
        "colab": {
          "base_uri": "https://localhost:8080/"
        },
        "id": "5RTH86nQ235F",
        "outputId": "a830f512-dbc3-470e-a555-55ee2793a1e7"
      },
      "execution_count": 136,
      "outputs": [
        {
          "output_type": "stream",
          "name": "stdout",
          "text": [
            "Model: \"sequential_12\"\n",
            "_________________________________________________________________\n",
            " Layer (type)                Output Shape              Param #   \n",
            "=================================================================\n",
            " embedding_12 (Embedding)    (None, 120, 16)           3200      \n",
            "                                                                 \n",
            " global_average_pooling1d_1  (None, 16)                0         \n",
            " 2 (GlobalAveragePooling1D)                                      \n",
            "                                                                 \n",
            " dense_32 (Dense)            (None, 16)                272       \n",
            "                                                                 \n",
            " dropout_8 (Dropout)         (None, 16)                0         \n",
            "                                                                 \n",
            " dense_33 (Dense)            (None, 8)                 136       \n",
            "                                                                 \n",
            " dense_34 (Dense)            (None, 1)                 9         \n",
            "                                                                 \n",
            "=================================================================\n",
            "Total params: 3617 (14.13 KB)\n",
            "Trainable params: 3617 (14.13 KB)\n",
            "Non-trainable params: 0 (0.00 Byte)\n",
            "_________________________________________________________________\n"
          ]
        }
      ]
    },
    {
      "cell_type": "code",
      "source": [
        "model_1.compile(loss=losses.BinaryCrossentropy(),\n",
        "              optimizer='adam',\n",
        "              metrics=['accuracy'])\n"
      ],
      "metadata": {
        "id": "EzPtWK9A3Grj"
      },
      "execution_count": 137,
      "outputs": []
    },
    {
      "cell_type": "code",
      "source": [
        "\n",
        "early_stopping = tf.keras.callbacks.EarlyStopping(monitor='val_loss', patience=5)"
      ],
      "metadata": {
        "id": "lUepUq9J17Be"
      },
      "execution_count": 144,
      "outputs": []
    },
    {
      "cell_type": "markdown",
      "source": [
        "Only ran for **79 epochs**"
      ],
      "metadata": {
        "id": "qP6z_reZMCqU"
      }
    },
    {
      "cell_type": "code",
      "source": [
        "history_1 = model_1.fit(\n",
        "    train_ds,\n",
        "    validation_data=val_ds,\n",
        "    callbacks=[early_stopping],\n",
        "    epochs=epochs)"
      ],
      "metadata": {
        "colab": {
          "base_uri": "https://localhost:8080/"
        },
        "id": "ePV4wxme49Vg",
        "outputId": "4061d6a2-d30c-44b1-d8d9-946369ffcdb4"
      },
      "execution_count": 145,
      "outputs": [
        {
          "output_type": "stream",
          "name": "stdout",
          "text": [
            "Epoch 1/100\n",
            "43/43 [==============================] - 2s 14ms/step - loss: 0.6851 - accuracy: 0.6911 - val_loss: 0.6743 - val_accuracy: 0.7431\n",
            "Epoch 2/100\n",
            "43/43 [==============================] - 0s 8ms/step - loss: 0.6615 - accuracy: 0.7391 - val_loss: 0.6427 - val_accuracy: 0.7431\n",
            "Epoch 3/100\n",
            "43/43 [==============================] - 0s 8ms/step - loss: 0.6202 - accuracy: 0.7391 - val_loss: 0.5883 - val_accuracy: 0.7431\n",
            "Epoch 4/100\n",
            "43/43 [==============================] - 0s 8ms/step - loss: 0.5804 - accuracy: 0.7391 - val_loss: 0.5681 - val_accuracy: 0.7431\n",
            "Epoch 5/100\n",
            "43/43 [==============================] - 0s 5ms/step - loss: 0.5744 - accuracy: 0.7391 - val_loss: 0.5666 - val_accuracy: 0.7431\n",
            "Epoch 6/100\n",
            "43/43 [==============================] - 0s 5ms/step - loss: 0.5749 - accuracy: 0.7391 - val_loss: 0.5658 - val_accuracy: 0.7431\n",
            "Epoch 7/100\n",
            "43/43 [==============================] - 0s 5ms/step - loss: 0.5687 - accuracy: 0.7391 - val_loss: 0.5649 - val_accuracy: 0.7431\n",
            "Epoch 8/100\n",
            "43/43 [==============================] - 0s 5ms/step - loss: 0.5723 - accuracy: 0.7391 - val_loss: 0.5643 - val_accuracy: 0.7431\n",
            "Epoch 9/100\n",
            "43/43 [==============================] - 0s 5ms/step - loss: 0.5699 - accuracy: 0.7391 - val_loss: 0.5632 - val_accuracy: 0.7431\n",
            "Epoch 10/100\n",
            "43/43 [==============================] - 0s 5ms/step - loss: 0.5675 - accuracy: 0.7391 - val_loss: 0.5621 - val_accuracy: 0.7431\n",
            "Epoch 11/100\n",
            "43/43 [==============================] - 0s 5ms/step - loss: 0.5658 - accuracy: 0.7391 - val_loss: 0.5611 - val_accuracy: 0.7431\n",
            "Epoch 12/100\n",
            "43/43 [==============================] - 0s 5ms/step - loss: 0.5654 - accuracy: 0.7391 - val_loss: 0.5597 - val_accuracy: 0.7431\n",
            "Epoch 13/100\n",
            "43/43 [==============================] - 0s 5ms/step - loss: 0.5602 - accuracy: 0.7391 - val_loss: 0.5581 - val_accuracy: 0.7431\n",
            "Epoch 14/100\n",
            "43/43 [==============================] - 0s 5ms/step - loss: 0.5590 - accuracy: 0.7391 - val_loss: 0.5564 - val_accuracy: 0.7431\n",
            "Epoch 15/100\n",
            "43/43 [==============================] - 0s 5ms/step - loss: 0.5587 - accuracy: 0.7391 - val_loss: 0.5543 - val_accuracy: 0.7431\n",
            "Epoch 16/100\n",
            "43/43 [==============================] - 0s 5ms/step - loss: 0.5561 - accuracy: 0.7391 - val_loss: 0.5519 - val_accuracy: 0.7431\n",
            "Epoch 17/100\n",
            "43/43 [==============================] - 0s 5ms/step - loss: 0.5508 - accuracy: 0.7391 - val_loss: 0.5486 - val_accuracy: 0.7431\n",
            "Epoch 18/100\n",
            "43/43 [==============================] - 0s 6ms/step - loss: 0.5477 - accuracy: 0.7391 - val_loss: 0.5451 - val_accuracy: 0.7431\n",
            "Epoch 19/100\n",
            "43/43 [==============================] - 0s 6ms/step - loss: 0.5415 - accuracy: 0.7391 - val_loss: 0.5397 - val_accuracy: 0.7431\n",
            "Epoch 20/100\n",
            "43/43 [==============================] - 0s 5ms/step - loss: 0.5328 - accuracy: 0.7391 - val_loss: 0.5328 - val_accuracy: 0.7431\n",
            "Epoch 21/100\n",
            "43/43 [==============================] - 0s 6ms/step - loss: 0.5206 - accuracy: 0.7391 - val_loss: 0.5253 - val_accuracy: 0.7431\n",
            "Epoch 22/100\n",
            "43/43 [==============================] - 0s 6ms/step - loss: 0.5071 - accuracy: 0.7391 - val_loss: 0.5167 - val_accuracy: 0.7431\n",
            "Epoch 23/100\n",
            "43/43 [==============================] - 0s 5ms/step - loss: 0.4977 - accuracy: 0.7391 - val_loss: 0.5001 - val_accuracy: 0.7431\n",
            "Epoch 24/100\n",
            "43/43 [==============================] - 0s 6ms/step - loss: 0.4805 - accuracy: 0.7529 - val_loss: 0.4803 - val_accuracy: 0.7500\n",
            "Epoch 25/100\n",
            "43/43 [==============================] - 0s 6ms/step - loss: 0.4457 - accuracy: 0.7805 - val_loss: 0.4590 - val_accuracy: 0.7604\n",
            "Epoch 26/100\n",
            "43/43 [==============================] - 0s 5ms/step - loss: 0.4236 - accuracy: 0.7871 - val_loss: 0.4486 - val_accuracy: 0.7604\n",
            "Epoch 27/100\n",
            "43/43 [==============================] - 0s 5ms/step - loss: 0.4116 - accuracy: 0.7980 - val_loss: 0.4385 - val_accuracy: 0.7604\n",
            "Epoch 28/100\n",
            "43/43 [==============================] - 0s 5ms/step - loss: 0.3949 - accuracy: 0.7936 - val_loss: 0.4260 - val_accuracy: 0.7604\n",
            "Epoch 29/100\n",
            "43/43 [==============================] - 0s 5ms/step - loss: 0.3777 - accuracy: 0.8081 - val_loss: 0.4175 - val_accuracy: 0.7604\n",
            "Epoch 30/100\n",
            "43/43 [==============================] - 0s 5ms/step - loss: 0.3757 - accuracy: 0.8016 - val_loss: 0.4178 - val_accuracy: 0.7569\n",
            "Epoch 31/100\n",
            "43/43 [==============================] - 0s 6ms/step - loss: 0.3647 - accuracy: 0.8132 - val_loss: 0.4053 - val_accuracy: 0.7812\n",
            "Epoch 32/100\n",
            "43/43 [==============================] - 0s 5ms/step - loss: 0.3532 - accuracy: 0.8205 - val_loss: 0.4010 - val_accuracy: 0.7743\n",
            "Epoch 33/100\n",
            "43/43 [==============================] - 0s 5ms/step - loss: 0.3506 - accuracy: 0.8147 - val_loss: 0.4029 - val_accuracy: 0.7674\n",
            "Epoch 34/100\n",
            "43/43 [==============================] - 0s 5ms/step - loss: 0.3499 - accuracy: 0.8089 - val_loss: 0.3924 - val_accuracy: 0.7778\n",
            "Epoch 35/100\n",
            "43/43 [==============================] - 0s 5ms/step - loss: 0.3430 - accuracy: 0.8132 - val_loss: 0.3888 - val_accuracy: 0.7778\n",
            "Epoch 36/100\n",
            "43/43 [==============================] - 0s 6ms/step - loss: 0.3381 - accuracy: 0.8205 - val_loss: 0.3886 - val_accuracy: 0.7778\n",
            "Epoch 37/100\n",
            "43/43 [==============================] - 0s 5ms/step - loss: 0.3412 - accuracy: 0.8169 - val_loss: 0.3858 - val_accuracy: 0.7778\n",
            "Epoch 38/100\n",
            "43/43 [==============================] - 0s 5ms/step - loss: 0.3343 - accuracy: 0.8256 - val_loss: 0.3813 - val_accuracy: 0.7812\n",
            "Epoch 39/100\n",
            "43/43 [==============================] - 0s 5ms/step - loss: 0.3371 - accuracy: 0.8176 - val_loss: 0.3809 - val_accuracy: 0.7708\n",
            "Epoch 40/100\n",
            "43/43 [==============================] - 0s 6ms/step - loss: 0.3328 - accuracy: 0.8212 - val_loss: 0.3739 - val_accuracy: 0.7882\n",
            "Epoch 41/100\n",
            "43/43 [==============================] - 0s 6ms/step - loss: 0.3250 - accuracy: 0.8307 - val_loss: 0.3729 - val_accuracy: 0.7882\n",
            "Epoch 42/100\n",
            "43/43 [==============================] - 0s 6ms/step - loss: 0.3259 - accuracy: 0.8270 - val_loss: 0.3720 - val_accuracy: 0.7847\n",
            "Epoch 43/100\n",
            "43/43 [==============================] - 0s 8ms/step - loss: 0.3199 - accuracy: 0.8299 - val_loss: 0.3704 - val_accuracy: 0.7847\n",
            "Epoch 44/100\n",
            "43/43 [==============================] - 0s 9ms/step - loss: 0.3191 - accuracy: 0.8328 - val_loss: 0.3707 - val_accuracy: 0.7951\n",
            "Epoch 45/100\n",
            "43/43 [==============================] - 0s 8ms/step - loss: 0.3213 - accuracy: 0.8307 - val_loss: 0.3668 - val_accuracy: 0.7986\n",
            "Epoch 46/100\n",
            "43/43 [==============================] - 0s 9ms/step - loss: 0.3172 - accuracy: 0.8307 - val_loss: 0.3669 - val_accuracy: 0.8021\n",
            "Epoch 47/100\n",
            "43/43 [==============================] - 0s 6ms/step - loss: 0.3130 - accuracy: 0.8372 - val_loss: 0.3689 - val_accuracy: 0.7882\n",
            "Epoch 48/100\n",
            "43/43 [==============================] - 0s 5ms/step - loss: 0.3138 - accuracy: 0.8343 - val_loss: 0.3614 - val_accuracy: 0.8090\n",
            "Epoch 49/100\n",
            "43/43 [==============================] - 0s 5ms/step - loss: 0.3128 - accuracy: 0.8401 - val_loss: 0.3618 - val_accuracy: 0.8090\n",
            "Epoch 50/100\n",
            "43/43 [==============================] - 0s 5ms/step - loss: 0.3097 - accuracy: 0.8350 - val_loss: 0.3603 - val_accuracy: 0.7986\n",
            "Epoch 51/100\n",
            "43/43 [==============================] - 0s 5ms/step - loss: 0.3110 - accuracy: 0.8416 - val_loss: 0.3599 - val_accuracy: 0.7986\n",
            "Epoch 52/100\n",
            "43/43 [==============================] - 0s 5ms/step - loss: 0.3084 - accuracy: 0.8321 - val_loss: 0.3565 - val_accuracy: 0.7986\n",
            "Epoch 53/100\n",
            "43/43 [==============================] - 0s 6ms/step - loss: 0.3104 - accuracy: 0.8408 - val_loss: 0.3561 - val_accuracy: 0.7986\n",
            "Epoch 54/100\n",
            "43/43 [==============================] - 0s 5ms/step - loss: 0.3097 - accuracy: 0.8314 - val_loss: 0.3555 - val_accuracy: 0.8021\n",
            "Epoch 55/100\n",
            "43/43 [==============================] - 0s 5ms/step - loss: 0.3013 - accuracy: 0.8438 - val_loss: 0.3569 - val_accuracy: 0.7986\n",
            "Epoch 56/100\n",
            "43/43 [==============================] - 0s 5ms/step - loss: 0.3073 - accuracy: 0.8401 - val_loss: 0.3771 - val_accuracy: 0.7847\n",
            "Epoch 57/100\n",
            "43/43 [==============================] - 0s 5ms/step - loss: 0.3059 - accuracy: 0.8365 - val_loss: 0.3563 - val_accuracy: 0.7917\n",
            "Epoch 58/100\n",
            "43/43 [==============================] - 0s 5ms/step - loss: 0.3094 - accuracy: 0.8350 - val_loss: 0.3631 - val_accuracy: 0.8264\n",
            "Epoch 59/100\n",
            "43/43 [==============================] - 0s 5ms/step - loss: 0.3015 - accuracy: 0.8401 - val_loss: 0.3541 - val_accuracy: 0.8021\n",
            "Epoch 60/100\n",
            "43/43 [==============================] - 0s 5ms/step - loss: 0.2962 - accuracy: 0.8474 - val_loss: 0.3665 - val_accuracy: 0.7986\n",
            "Epoch 61/100\n",
            "43/43 [==============================] - 0s 5ms/step - loss: 0.2964 - accuracy: 0.8452 - val_loss: 0.3571 - val_accuracy: 0.7986\n",
            "Epoch 62/100\n",
            "43/43 [==============================] - 0s 5ms/step - loss: 0.2992 - accuracy: 0.8408 - val_loss: 0.3521 - val_accuracy: 0.7986\n",
            "Epoch 63/100\n",
            "43/43 [==============================] - 0s 5ms/step - loss: 0.2962 - accuracy: 0.8517 - val_loss: 0.3527 - val_accuracy: 0.7986\n",
            "Epoch 64/100\n",
            "43/43 [==============================] - 0s 6ms/step - loss: 0.2954 - accuracy: 0.8474 - val_loss: 0.3519 - val_accuracy: 0.8021\n",
            "Epoch 65/100\n",
            "43/43 [==============================] - 0s 5ms/step - loss: 0.2932 - accuracy: 0.8481 - val_loss: 0.3537 - val_accuracy: 0.8021\n",
            "Epoch 66/100\n",
            "43/43 [==============================] - 0s 5ms/step - loss: 0.2942 - accuracy: 0.8459 - val_loss: 0.3536 - val_accuracy: 0.8021\n",
            "Epoch 67/100\n",
            "43/43 [==============================] - 0s 5ms/step - loss: 0.2956 - accuracy: 0.8474 - val_loss: 0.3536 - val_accuracy: 0.8056\n",
            "Epoch 68/100\n",
            "43/43 [==============================] - 0s 6ms/step - loss: 0.2936 - accuracy: 0.8481 - val_loss: 0.3527 - val_accuracy: 0.8056\n",
            "Epoch 69/100\n",
            "43/43 [==============================] - 0s 6ms/step - loss: 0.2941 - accuracy: 0.8423 - val_loss: 0.3479 - val_accuracy: 0.8125\n",
            "Epoch 70/100\n",
            "43/43 [==============================] - 0s 5ms/step - loss: 0.2908 - accuracy: 0.8452 - val_loss: 0.3482 - val_accuracy: 0.8056\n",
            "Epoch 71/100\n",
            "43/43 [==============================] - 0s 5ms/step - loss: 0.2935 - accuracy: 0.8423 - val_loss: 0.3526 - val_accuracy: 0.7951\n",
            "Epoch 72/100\n",
            "43/43 [==============================] - 0s 6ms/step - loss: 0.2902 - accuracy: 0.8488 - val_loss: 0.3486 - val_accuracy: 0.8056\n",
            "Epoch 73/100\n",
            "43/43 [==============================] - 0s 5ms/step - loss: 0.2929 - accuracy: 0.8459 - val_loss: 0.3447 - val_accuracy: 0.8056\n",
            "Epoch 74/100\n",
            "43/43 [==============================] - 0s 5ms/step - loss: 0.2929 - accuracy: 0.8517 - val_loss: 0.3444 - val_accuracy: 0.8160\n",
            "Epoch 75/100\n",
            "43/43 [==============================] - 0s 5ms/step - loss: 0.2928 - accuracy: 0.8358 - val_loss: 0.3452 - val_accuracy: 0.8021\n",
            "Epoch 76/100\n",
            "43/43 [==============================] - 0s 5ms/step - loss: 0.2911 - accuracy: 0.8350 - val_loss: 0.3496 - val_accuracy: 0.7986\n",
            "Epoch 77/100\n",
            "43/43 [==============================] - 0s 5ms/step - loss: 0.2852 - accuracy: 0.8379 - val_loss: 0.3452 - val_accuracy: 0.8021\n",
            "Epoch 78/100\n",
            "43/43 [==============================] - 0s 5ms/step - loss: 0.2861 - accuracy: 0.8416 - val_loss: 0.3500 - val_accuracy: 0.7951\n",
            "Epoch 79/100\n",
            "43/43 [==============================] - 0s 6ms/step - loss: 0.2849 - accuracy: 0.8510 - val_loss: 0.3449 - val_accuracy: 0.8194\n"
          ]
        }
      ]
    },
    {
      "cell_type": "markdown",
      "source": [
        "Test result is better than the initial model. Refer to plots for better visualization"
      ],
      "metadata": {
        "id": "HZjUIX-fMJta"
      }
    },
    {
      "cell_type": "code",
      "source": [
        "loss, accuracy = model_1.evaluate(test_ds)\n",
        "\n",
        "print(\"Loss: \", loss)\n",
        "print(\"Accuracy: \", accuracy)\n"
      ],
      "metadata": {
        "colab": {
          "base_uri": "https://localhost:8080/"
        },
        "id": "3ZbPDccp3B1G",
        "outputId": "276f2c64-75f2-40ea-a8a0-5ebc01218bf5"
      },
      "execution_count": 146,
      "outputs": [
        {
          "output_type": "stream",
          "name": "stdout",
          "text": [
            "9/9 [==============================] - 0s 4ms/step - loss: 0.3337 - accuracy: 0.8125\n",
            "Loss:  0.3336855173110962\n",
            "Accuracy:  0.8125\n"
          ]
        }
      ]
    },
    {
      "cell_type": "code",
      "source": [
        "history_dict_1 = history_1.history\n",
        "history_dict_1.keys()"
      ],
      "metadata": {
        "colab": {
          "base_uri": "https://localhost:8080/"
        },
        "id": "3QESFNib3W4G",
        "outputId": "e659a60f-87c2-4624-d0db-87d4a67b460a"
      },
      "execution_count": 147,
      "outputs": [
        {
          "output_type": "execute_result",
          "data": {
            "text/plain": [
              "dict_keys(['loss', 'accuracy', 'val_loss', 'val_accuracy'])"
            ]
          },
          "metadata": {},
          "execution_count": 147
        }
      ]
    },
    {
      "cell_type": "code",
      "source": [
        "acc = history_dict_1['accuracy']\n",
        "val_acc = history_dict_1['val_accuracy']\n",
        "loss = history_dict_1['loss']\n",
        "val_loss = history_dict_1['val_loss']\n",
        "\n",
        "eps = range(1, len(acc) + 1)\n",
        "\n",
        "# \"bo\" is for \"blue dot\"\n",
        "plt.plot(eps, loss, 'bo', label='Training loss')\n",
        "# b is for \"solid blue line\"\n",
        "plt.plot(eps, val_loss, 'b', label='Validation loss')\n",
        "plt.title('Training and validation loss')\n",
        "plt.xlabel('Epochs')\n",
        "plt.ylabel('Loss')\n",
        "plt.legend()\n",
        "\n",
        "plt.show()\n"
      ],
      "metadata": {
        "colab": {
          "base_uri": "https://localhost:8080/",
          "height": 472
        },
        "id": "9SK_QMQH5X5V",
        "outputId": "5edced7f-06df-4330-8dce-8e7a656baeb4"
      },
      "execution_count": 152,
      "outputs": [
        {
          "output_type": "display_data",
          "data": {
            "text/plain": [
              "<Figure size 640x480 with 1 Axes>"
            ],
            "image/png": "[encoded data removed]"
          },
          "metadata": {}
        }
      ]
    },
    {
      "cell_type": "code",
      "source": [
        "plt.plot(eps, acc, 'bo', label='Training acc')\n",
        "plt.plot(eps, val_acc, 'b', label='Validation acc')\n",
        "plt.title('Training and validation accuracy')\n",
        "plt.xlabel('Epochs')\n",
        "plt.ylabel('Accuracy')\n",
        "plt.legend(loc='lower right')\n",
        "\n",
        "plt.show()\n"
      ],
      "metadata": {
        "colab": {
          "base_uri": "https://localhost:8080/",
          "height": 472
        },
        "id": "As5C_xCT5eRU",
        "outputId": "1b2a6984-c9d9-4d28-e8f2-bfdba7a83aee"
      },
      "execution_count": 153,
      "outputs": [
        {
          "output_type": "display_data",
          "data": {
            "text/plain": [
              "<Figure size 640x480 with 1 Axes>"
            ],
            "image/png": "[encoded data removed]"
          },
          "metadata": {}
        }
      ]
    },
    {
      "cell_type": "markdown",
      "source": [
        "# **THANK YOU**"
      ],
      "metadata": {
        "id": "YnzJ6DZuMm2X"
      }
    }
  ]
}